{
  "nbformat": 4,
  "nbformat_minor": 0,
  "metadata": {
    "colab": {
      "name": "Text Classification using cnn.ipynb",
      "provenance": [],
      "authorship_tag": "ABX9TyPnyO7XaA9r3v9bGeXnj34h",
      "include_colab_link": true
    },
    "kernelspec": {
      "name": "python3",
      "display_name": "Python 3"
    },
    "language_info": {
      "name": "python"
    },
    "accelerator": "GPU"
  },
  "cells": [
    {
      "cell_type": "markdown",
      "metadata": {
        "id": "view-in-github",
        "colab_type": "text"
      },
      "source": [
        "<a href=\"https://colab.research.google.com/github/ElleuchMed2022/ML-programming-/blob/main/Text_Classification_using_cnn.ipynb\" target=\"_parent\"><img src=\"https://colab.research.google.com/assets/colab-badge.svg\" alt=\"Open In Colab\"/></a>"
      ]
    },
    {
      "cell_type": "code",
      "execution_count": 1,
      "metadata": {
        "id": "n2PTf00uNT0b"
      },
      "outputs": [],
      "source": [
        "\n",
        "\n",
        "from __future__ import division, print_function\n",
        "from gensim import models\n",
        "from keras.callbacks import ModelCheckpoint\n",
        "from keras.layers import Dense, Dropout, Reshape, Flatten, concatenate, Input, Conv1D, GlobalMaxPooling1D, Embedding\n",
        "from keras.layers.recurrent import LSTM\n",
        "from keras.models import Sequential\n",
        "from keras.preprocessing.text import Tokenizer\n",
        "from keras.preprocessing.sequence import pad_sequences\n",
        "from keras.models import Model\n",
        "from sklearn.model_selection import train_test_split\n",
        "import numpy as np\n",
        "import pandas as pd\n",
        "import os\n",
        "import collections\n",
        "import re\n",
        "import string\n",
        "\n"
      ]
    },
    {
      "cell_type": "code",
      "source": [
        "import numpy as np \n",
        "from sklearn.manifold import TSNE\n",
        "import matplotlib.pyplot as plt"
      ],
      "metadata": {
        "id": "U98DR42mN6cg"
      },
      "execution_count": 2,
      "outputs": []
    },
    {
      "cell_type": "code",
      "source": [
        "import gensim.downloader as api \n",
        "glove_model = api.load('word2vec-google-news-300')"
      ],
      "metadata": {
        "colab": {
          "base_uri": "https://localhost:8080/"
        },
        "id": "faQw-mgFOCSH",
        "outputId": "5099e7a8-5f67-4fb3-cd1e-2975e3f1ecf6"
      },
      "execution_count": 3,
      "outputs": [
        {
          "output_type": "stream",
          "name": "stdout",
          "text": [
            "[==================================================] 100.0% 1662.8/1662.8MB downloaded\n"
          ]
        }
      ]
    },
    {
      "cell_type": "code",
      "source": [
        "import pandas as pd "
      ],
      "metadata": {
        "id": "x_sDLUDZO5As"
      },
      "execution_count": 4,
      "outputs": []
    },
    {
      "cell_type": "code",
      "source": [
        "from google.colab import files\n",
        "uploaded = files.upload()"
      ],
      "metadata": {
        "colab": {
          "resources": {
            "http://localhost:8080/nbextensions/google.colab/files.js": {
              "data": "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",
              "ok": true,
              "headers": [
                [
                  "content-type",
                  "application/javascript"
                ]
              ],
              "status": 200,
              "status_text": "OK"
            }
          },
          "base_uri": "https://localhost:8080/",
          "height": 75
        },
        "id": "2jobtYihPUJq",
        "outputId": "505507e2-a615-4f96-b213-aa9dbe4ff5e6"
      },
      "execution_count": 5,
      "outputs": [
        {
          "output_type": "display_data",
          "data": {
            "text/html": [
              "\n",
              "     <input type=\"file\" id=\"files-2d0fd875-ac57-4ce8-a17d-fb3497babb2b\" name=\"files[]\" multiple disabled\n",
              "        style=\"border:none\" />\n",
              "     <output id=\"result-2d0fd875-ac57-4ce8-a17d-fb3497babb2b\">\n",
              "      Upload widget is only available when the cell has been executed in the\n",
              "      current browser session. Please rerun this cell to enable.\n",
              "      </output>\n",
              "      <script src=\"/nbextensions/google.colab/files.js\"></script> "
            ],
            "text/plain": [
              "<IPython.core.display.HTML object>"
            ]
          },
          "metadata": {}
        },
        {
          "output_type": "stream",
          "name": "stdout",
          "text": [
            "Saving data_5_column.xlsx to data_5_column.xlsx\n"
          ]
        }
      ]
    },
    {
      "cell_type": "code",
      "source": [
        "import io \n",
        "df = pd.read_excel(io.BytesIO(uploaded[\"data_5_column.xlsx\"]))\n",
        "df.head(5)"
      ],
      "metadata": {
        "colab": {
          "base_uri": "https://localhost:8080/",
          "height": 206
        },
        "id": "3xF2oXaORjLF",
        "outputId": "6f970b44-5a70-4614-a4fe-72b0e9e3d8c0"
      },
      "execution_count": 6,
      "outputs": [
        {
          "output_type": "execute_result",
          "data": {
            "text/html": [
              "\n",
              "  <div id=\"df-5a2a96ba-cb51-4aa4-a33d-7f5c5d3422c3\">\n",
              "    <div class=\"colab-df-container\">\n",
              "      <div>\n",
              "<style scoped>\n",
              "    .dataframe tbody tr th:only-of-type {\n",
              "        vertical-align: middle;\n",
              "    }\n",
              "\n",
              "    .dataframe tbody tr th {\n",
              "        vertical-align: top;\n",
              "    }\n",
              "\n",
              "    .dataframe thead th {\n",
              "        text-align: right;\n",
              "    }\n",
              "</style>\n",
              "<table border=\"1\" class=\"dataframe\">\n",
              "  <thead>\n",
              "    <tr style=\"text-align: right;\">\n",
              "      <th></th>\n",
              "      <th>Unnamed: 0</th>\n",
              "      <th>Poste</th>\n",
              "      <th>Entreprise</th>\n",
              "      <th>Contrat</th>\n",
              "      <th>description</th>\n",
              "      <th>Localisation</th>\n",
              "      <th>salaire €</th>\n",
              "    </tr>\n",
              "  </thead>\n",
              "  <tbody>\n",
              "    <tr>\n",
              "      <th>0</th>\n",
              "      <td>0</td>\n",
              "      <td>Tuyauteur (H/F)</td>\n",
              "      <td>ARTUS INTERIM VANNES</td>\n",
              "      <td>Intérim</td>\n",
              "      <td>Notre agence ARTUS INTERIM de Vannes recherche...</td>\n",
              "      <td>\\n                                ARTUS INTERI...</td>\n",
              "      <td>23000-30000</td>\n",
              "    </tr>\n",
              "    <tr>\n",
              "      <th>1</th>\n",
              "      <td>1</td>\n",
              "      <td>MECANICIEN PL (H/F)</td>\n",
              "      <td>SOC GARAGE VEHICULES INDUSTRIELS</td>\n",
              "      <td>CDI</td>\n",
              "      <td>En tant que Mécanicien PL et rattaché au Chef ...</td>\n",
              "      <td>Évreux</td>\n",
              "      <td>23000-30000</td>\n",
              "    </tr>\n",
              "    <tr>\n",
              "      <th>2</th>\n",
              "      <td>2</td>\n",
              "      <td>Opérateur de production (H/F)</td>\n",
              "      <td>Manpower SABLE SUR SARTHE</td>\n",
              "      <td>Intérim 3 mois</td>\n",
              "      <td>Manpower SABLE SUR SARTHE recherche pour son c...</td>\n",
              "      <td>NaN</td>\n",
              "      <td>23000-30000</td>\n",
              "    </tr>\n",
              "    <tr>\n",
              "      <th>3</th>\n",
              "      <td>3</td>\n",
              "      <td>TECHNICIEN ELECTROMECA SAV H/F</td>\n",
              "      <td>DE GRAËT CONSULTING|DE GRAET CONSULTING</td>\n",
              "      <td>CDI</td>\n",
              "      <td>Dans le cadre du développement constant de son...</td>\n",
              "      <td>NaN</td>\n",
              "      <td>23000-30000</td>\n",
              "    </tr>\n",
              "    <tr>\n",
              "      <th>4</th>\n",
              "      <td>4</td>\n",
              "      <td>ELECTRICIEN H/F</td>\n",
              "      <td>MENCO SAINT NAZAIRE</td>\n",
              "      <td>Intérim</td>\n",
              "      <td>\"MENCO ST NAZAIRE recrute des Électriciens con...</td>\n",
              "      <td>\\n                                FINANCIERE M...</td>\n",
              "      <td>5000-23000</td>\n",
              "    </tr>\n",
              "  </tbody>\n",
              "</table>\n",
              "</div>\n",
              "      <button class=\"colab-df-convert\" onclick=\"convertToInteractive('df-5a2a96ba-cb51-4aa4-a33d-7f5c5d3422c3')\"\n",
              "              title=\"Convert this dataframe to an interactive table.\"\n",
              "              style=\"display:none;\">\n",
              "        \n",
              "  <svg xmlns=\"http://www.w3.org/2000/svg\" height=\"24px\"viewBox=\"0 0 24 24\"\n",
              "       width=\"24px\">\n",
              "    <path d=\"M0 0h24v24H0V0z\" fill=\"none\"/>\n",
              "    <path d=\"M18.56 5.44l.94 2.06.94-2.06 2.06-.94-2.06-.94-.94-2.06-.94 2.06-2.06.94zm-11 1L8.5 8.5l.94-2.06 2.06-.94-2.06-.94L8.5 2.5l-.94 2.06-2.06.94zm10 10l.94 2.06.94-2.06 2.06-.94-2.06-.94-.94-2.06-.94 2.06-2.06.94z\"/><path d=\"M17.41 7.96l-1.37-1.37c-.4-.4-.92-.59-1.43-.59-.52 0-1.04.2-1.43.59L10.3 9.45l-7.72 7.72c-.78.78-.78 2.05 0 2.83L4 21.41c.39.39.9.59 1.41.59.51 0 1.02-.2 1.41-.59l7.78-7.78 2.81-2.81c.8-.78.8-2.07 0-2.86zM5.41 20L4 18.59l7.72-7.72 1.47 1.35L5.41 20z\"/>\n",
              "  </svg>\n",
              "      </button>\n",
              "      \n",
              "  <style>\n",
              "    .colab-df-container {\n",
              "      display:flex;\n",
              "      flex-wrap:wrap;\n",
              "      gap: 12px;\n",
              "    }\n",
              "\n",
              "    .colab-df-convert {\n",
              "      background-color: #E8F0FE;\n",
              "      border: none;\n",
              "      border-radius: 50%;\n",
              "      cursor: pointer;\n",
              "      display: none;\n",
              "      fill: #1967D2;\n",
              "      height: 32px;\n",
              "      padding: 0 0 0 0;\n",
              "      width: 32px;\n",
              "    }\n",
              "\n",
              "    .colab-df-convert:hover {\n",
              "      background-color: #E2EBFA;\n",
              "      box-shadow: 0px 1px 2px rgba(60, 64, 67, 0.3), 0px 1px 3px 1px rgba(60, 64, 67, 0.15);\n",
              "      fill: #174EA6;\n",
              "    }\n",
              "\n",
              "    [theme=dark] .colab-df-convert {\n",
              "      background-color: #3B4455;\n",
              "      fill: #D2E3FC;\n",
              "    }\n",
              "\n",
              "    [theme=dark] .colab-df-convert:hover {\n",
              "      background-color: #434B5C;\n",
              "      box-shadow: 0px 1px 3px 1px rgba(0, 0, 0, 0.15);\n",
              "      filter: drop-shadow(0px 1px 2px rgba(0, 0, 0, 0.3));\n",
              "      fill: #FFFFFF;\n",
              "    }\n",
              "  </style>\n",
              "\n",
              "      <script>\n",
              "        const buttonEl =\n",
              "          document.querySelector('#df-5a2a96ba-cb51-4aa4-a33d-7f5c5d3422c3 button.colab-df-convert');\n",
              "        buttonEl.style.display =\n",
              "          google.colab.kernel.accessAllowed ? 'block' : 'none';\n",
              "\n",
              "        async function convertToInteractive(key) {\n",
              "          const element = document.querySelector('#df-5a2a96ba-cb51-4aa4-a33d-7f5c5d3422c3');\n",
              "          const dataTable =\n",
              "            await google.colab.kernel.invokeFunction('convertToInteractive',\n",
              "                                                     [key], {});\n",
              "          if (!dataTable) return;\n",
              "\n",
              "          const docLinkHtml = 'Like what you see? Visit the ' +\n",
              "            '<a target=\"_blank\" href=https://colab.research.google.com/notebooks/data_table.ipynb>data table notebook</a>'\n",
              "            + ' to learn more about interactive tables.';\n",
              "          element.innerHTML = '';\n",
              "          dataTable['output_type'] = 'display_data';\n",
              "          await google.colab.output.renderOutput(dataTable, element);\n",
              "          const docLink = document.createElement('div');\n",
              "          docLink.innerHTML = docLinkHtml;\n",
              "          element.appendChild(docLink);\n",
              "        }\n",
              "      </script>\n",
              "    </div>\n",
              "  </div>\n",
              "  "
            ],
            "text/plain": [
              "   Unnamed: 0                           Poste  \\\n",
              "0           0                 Tuyauteur (H/F)   \n",
              "1           1             MECANICIEN PL (H/F)   \n",
              "2           2   Opérateur de production (H/F)   \n",
              "3           3  TECHNICIEN ELECTROMECA SAV H/F   \n",
              "4           4                 ELECTRICIEN H/F   \n",
              "\n",
              "                                Entreprise          Contrat  \\\n",
              "0                     ARTUS INTERIM VANNES         Intérim    \n",
              "1         SOC GARAGE VEHICULES INDUSTRIELS             CDI    \n",
              "2                Manpower SABLE SUR SARTHE  Intérim 3 mois    \n",
              "3  DE GRAËT CONSULTING|DE GRAET CONSULTING             CDI    \n",
              "4                      MENCO SAINT NAZAIRE         Intérim    \n",
              "\n",
              "                                         description  \\\n",
              "0  Notre agence ARTUS INTERIM de Vannes recherche...   \n",
              "1  En tant que Mécanicien PL et rattaché au Chef ...   \n",
              "2  Manpower SABLE SUR SARTHE recherche pour son c...   \n",
              "3  Dans le cadre du développement constant de son...   \n",
              "4  \"MENCO ST NAZAIRE recrute des Électriciens con...   \n",
              "\n",
              "                                        Localisation    salaire €  \n",
              "0  \\n                                ARTUS INTERI...  23000-30000  \n",
              "1                                             Évreux  23000-30000  \n",
              "2                                                NaN  23000-30000  \n",
              "3                                                NaN  23000-30000  \n",
              "4  \\n                                FINANCIERE M...   5000-23000  "
            ]
          },
          "metadata": {},
          "execution_count": 6
        }
      ]
    },
    {
      "cell_type": "code",
      "source": [
        ""
      ],
      "metadata": {
        "id": "Xcn2WE8xUkQt"
      },
      "execution_count": null,
      "outputs": []
    },
    {
      "cell_type": "code",
      "source": [
        "del df[\"Unnamed: 0\"]"
      ],
      "metadata": {
        "id": "exYyXhDhSh6P"
      },
      "execution_count": 7,
      "outputs": []
    },
    {
      "cell_type": "code",
      "source": [
        "df.head(5)\n"
      ],
      "metadata": {
        "colab": {
          "base_uri": "https://localhost:8080/",
          "height": 206
        },
        "id": "U_L_b0uSSm68",
        "outputId": "688c9ec9-7a84-43ff-a1cd-5e26e94571da"
      },
      "execution_count": 8,
      "outputs": [
        {
          "output_type": "execute_result",
          "data": {
            "text/html": [
              "\n",
              "  <div id=\"df-e96f730d-5213-4ec2-bcb9-f18430d60764\">\n",
              "    <div class=\"colab-df-container\">\n",
              "      <div>\n",
              "<style scoped>\n",
              "    .dataframe tbody tr th:only-of-type {\n",
              "        vertical-align: middle;\n",
              "    }\n",
              "\n",
              "    .dataframe tbody tr th {\n",
              "        vertical-align: top;\n",
              "    }\n",
              "\n",
              "    .dataframe thead th {\n",
              "        text-align: right;\n",
              "    }\n",
              "</style>\n",
              "<table border=\"1\" class=\"dataframe\">\n",
              "  <thead>\n",
              "    <tr style=\"text-align: right;\">\n",
              "      <th></th>\n",
              "      <th>Poste</th>\n",
              "      <th>Entreprise</th>\n",
              "      <th>Contrat</th>\n",
              "      <th>description</th>\n",
              "      <th>Localisation</th>\n",
              "      <th>salaire €</th>\n",
              "    </tr>\n",
              "  </thead>\n",
              "  <tbody>\n",
              "    <tr>\n",
              "      <th>0</th>\n",
              "      <td>Tuyauteur (H/F)</td>\n",
              "      <td>ARTUS INTERIM VANNES</td>\n",
              "      <td>Intérim</td>\n",
              "      <td>Notre agence ARTUS INTERIM de Vannes recherche...</td>\n",
              "      <td>\\n                                ARTUS INTERI...</td>\n",
              "      <td>23000-30000</td>\n",
              "    </tr>\n",
              "    <tr>\n",
              "      <th>1</th>\n",
              "      <td>MECANICIEN PL (H/F)</td>\n",
              "      <td>SOC GARAGE VEHICULES INDUSTRIELS</td>\n",
              "      <td>CDI</td>\n",
              "      <td>En tant que Mécanicien PL et rattaché au Chef ...</td>\n",
              "      <td>Évreux</td>\n",
              "      <td>23000-30000</td>\n",
              "    </tr>\n",
              "    <tr>\n",
              "      <th>2</th>\n",
              "      <td>Opérateur de production (H/F)</td>\n",
              "      <td>Manpower SABLE SUR SARTHE</td>\n",
              "      <td>Intérim 3 mois</td>\n",
              "      <td>Manpower SABLE SUR SARTHE recherche pour son c...</td>\n",
              "      <td>NaN</td>\n",
              "      <td>23000-30000</td>\n",
              "    </tr>\n",
              "    <tr>\n",
              "      <th>3</th>\n",
              "      <td>TECHNICIEN ELECTROMECA SAV H/F</td>\n",
              "      <td>DE GRAËT CONSULTING|DE GRAET CONSULTING</td>\n",
              "      <td>CDI</td>\n",
              "      <td>Dans le cadre du développement constant de son...</td>\n",
              "      <td>NaN</td>\n",
              "      <td>23000-30000</td>\n",
              "    </tr>\n",
              "    <tr>\n",
              "      <th>4</th>\n",
              "      <td>ELECTRICIEN H/F</td>\n",
              "      <td>MENCO SAINT NAZAIRE</td>\n",
              "      <td>Intérim</td>\n",
              "      <td>\"MENCO ST NAZAIRE recrute des Électriciens con...</td>\n",
              "      <td>\\n                                FINANCIERE M...</td>\n",
              "      <td>5000-23000</td>\n",
              "    </tr>\n",
              "  </tbody>\n",
              "</table>\n",
              "</div>\n",
              "      <button class=\"colab-df-convert\" onclick=\"convertToInteractive('df-e96f730d-5213-4ec2-bcb9-f18430d60764')\"\n",
              "              title=\"Convert this dataframe to an interactive table.\"\n",
              "              style=\"display:none;\">\n",
              "        \n",
              "  <svg xmlns=\"http://www.w3.org/2000/svg\" height=\"24px\"viewBox=\"0 0 24 24\"\n",
              "       width=\"24px\">\n",
              "    <path d=\"M0 0h24v24H0V0z\" fill=\"none\"/>\n",
              "    <path d=\"M18.56 5.44l.94 2.06.94-2.06 2.06-.94-2.06-.94-.94-2.06-.94 2.06-2.06.94zm-11 1L8.5 8.5l.94-2.06 2.06-.94-2.06-.94L8.5 2.5l-.94 2.06-2.06.94zm10 10l.94 2.06.94-2.06 2.06-.94-2.06-.94-.94-2.06-.94 2.06-2.06.94z\"/><path d=\"M17.41 7.96l-1.37-1.37c-.4-.4-.92-.59-1.43-.59-.52 0-1.04.2-1.43.59L10.3 9.45l-7.72 7.72c-.78.78-.78 2.05 0 2.83L4 21.41c.39.39.9.59 1.41.59.51 0 1.02-.2 1.41-.59l7.78-7.78 2.81-2.81c.8-.78.8-2.07 0-2.86zM5.41 20L4 18.59l7.72-7.72 1.47 1.35L5.41 20z\"/>\n",
              "  </svg>\n",
              "      </button>\n",
              "      \n",
              "  <style>\n",
              "    .colab-df-container {\n",
              "      display:flex;\n",
              "      flex-wrap:wrap;\n",
              "      gap: 12px;\n",
              "    }\n",
              "\n",
              "    .colab-df-convert {\n",
              "      background-color: #E8F0FE;\n",
              "      border: none;\n",
              "      border-radius: 50%;\n",
              "      cursor: pointer;\n",
              "      display: none;\n",
              "      fill: #1967D2;\n",
              "      height: 32px;\n",
              "      padding: 0 0 0 0;\n",
              "      width: 32px;\n",
              "    }\n",
              "\n",
              "    .colab-df-convert:hover {\n",
              "      background-color: #E2EBFA;\n",
              "      box-shadow: 0px 1px 2px rgba(60, 64, 67, 0.3), 0px 1px 3px 1px rgba(60, 64, 67, 0.15);\n",
              "      fill: #174EA6;\n",
              "    }\n",
              "\n",
              "    [theme=dark] .colab-df-convert {\n",
              "      background-color: #3B4455;\n",
              "      fill: #D2E3FC;\n",
              "    }\n",
              "\n",
              "    [theme=dark] .colab-df-convert:hover {\n",
              "      background-color: #434B5C;\n",
              "      box-shadow: 0px 1px 3px 1px rgba(0, 0, 0, 0.15);\n",
              "      filter: drop-shadow(0px 1px 2px rgba(0, 0, 0, 0.3));\n",
              "      fill: #FFFFFF;\n",
              "    }\n",
              "  </style>\n",
              "\n",
              "      <script>\n",
              "        const buttonEl =\n",
              "          document.querySelector('#df-e96f730d-5213-4ec2-bcb9-f18430d60764 button.colab-df-convert');\n",
              "        buttonEl.style.display =\n",
              "          google.colab.kernel.accessAllowed ? 'block' : 'none';\n",
              "\n",
              "        async function convertToInteractive(key) {\n",
              "          const element = document.querySelector('#df-e96f730d-5213-4ec2-bcb9-f18430d60764');\n",
              "          const dataTable =\n",
              "            await google.colab.kernel.invokeFunction('convertToInteractive',\n",
              "                                                     [key], {});\n",
              "          if (!dataTable) return;\n",
              "\n",
              "          const docLinkHtml = 'Like what you see? Visit the ' +\n",
              "            '<a target=\"_blank\" href=https://colab.research.google.com/notebooks/data_table.ipynb>data table notebook</a>'\n",
              "            + ' to learn more about interactive tables.';\n",
              "          element.innerHTML = '';\n",
              "          dataTable['output_type'] = 'display_data';\n",
              "          await google.colab.output.renderOutput(dataTable, element);\n",
              "          const docLink = document.createElement('div');\n",
              "          docLink.innerHTML = docLinkHtml;\n",
              "          element.appendChild(docLink);\n",
              "        }\n",
              "      </script>\n",
              "    </div>\n",
              "  </div>\n",
              "  "
            ],
            "text/plain": [
              "                            Poste                               Entreprise  \\\n",
              "0                 Tuyauteur (H/F)                     ARTUS INTERIM VANNES   \n",
              "1             MECANICIEN PL (H/F)         SOC GARAGE VEHICULES INDUSTRIELS   \n",
              "2   Opérateur de production (H/F)                Manpower SABLE SUR SARTHE   \n",
              "3  TECHNICIEN ELECTROMECA SAV H/F  DE GRAËT CONSULTING|DE GRAET CONSULTING   \n",
              "4                 ELECTRICIEN H/F                      MENCO SAINT NAZAIRE   \n",
              "\n",
              "           Contrat                                        description  \\\n",
              "0         Intérim   Notre agence ARTUS INTERIM de Vannes recherche...   \n",
              "1             CDI   En tant que Mécanicien PL et rattaché au Chef ...   \n",
              "2  Intérim 3 mois   Manpower SABLE SUR SARTHE recherche pour son c...   \n",
              "3             CDI   Dans le cadre du développement constant de son...   \n",
              "4         Intérim   \"MENCO ST NAZAIRE recrute des Électriciens con...   \n",
              "\n",
              "                                        Localisation    salaire €  \n",
              "0  \\n                                ARTUS INTERI...  23000-30000  \n",
              "1                                             Évreux  23000-30000  \n",
              "2                                                NaN  23000-30000  \n",
              "3                                                NaN  23000-30000  \n",
              "4  \\n                                FINANCIERE M...   5000-23000  "
            ]
          },
          "metadata": {},
          "execution_count": 8
        }
      ]
    },
    {
      "cell_type": "code",
      "source": [
        ""
      ],
      "metadata": {
        "id": "eEgVjlUtSq1f"
      },
      "execution_count": null,
      "outputs": []
    },
    {
      "cell_type": "code",
      "source": [
        "# Creates list of texts and labels\n",
        "\n",
        "text = df['description'].values.tolist()\n",
        "\n",
        "labels = df['salaire €'].values.tolist()"
      ],
      "metadata": {
        "id": "81DKMDqzUorT"
      },
      "execution_count": 9,
      "outputs": []
    },
    {
      "cell_type": "code",
      "source": [
        "from sklearn.preprocessing import LabelEncoder\n",
        "LE = LabelEncoder()\n",
        "labels = LE.fit_transform(labels)"
      ],
      "metadata": {
        "id": "bXO0n8-0VFO1"
      },
      "execution_count": 10,
      "outputs": []
    },
    {
      "cell_type": "code",
      "source": [
        "data = df"
      ],
      "metadata": {
        "id": "MgYLXfkSS4PA"
      },
      "execution_count": 11,
      "outputs": []
    },
    {
      "cell_type": "code",
      "source": [
        "def remove_punct(text):\n",
        "    text_nopunct = ''\n",
        "    text_nopunct = re.sub('['+string.punctuation+']', '', text)\n",
        "    return text_nopunct\n",
        "\n",
        "data['clean_description'] = data['description'].apply(lambda x: remove_punct(x))"
      ],
      "metadata": {
        "id": "_9zpjvncUfpE"
      },
      "execution_count": 12,
      "outputs": []
    },
    {
      "cell_type": "code",
      "source": [
        "data"
      ],
      "metadata": {
        "colab": {
          "base_uri": "https://localhost:8080/",
          "height": 641
        },
        "id": "XYanlcMwWfDB",
        "outputId": "84443d7f-ce8f-47f7-e3d5-5785d9b02db5"
      },
      "execution_count": 13,
      "outputs": [
        {
          "output_type": "execute_result",
          "data": {
            "text/html": [
              "\n",
              "  <div id=\"df-ea7ba332-a817-4093-8b21-3aead5444669\">\n",
              "    <div class=\"colab-df-container\">\n",
              "      <div>\n",
              "<style scoped>\n",
              "    .dataframe tbody tr th:only-of-type {\n",
              "        vertical-align: middle;\n",
              "    }\n",
              "\n",
              "    .dataframe tbody tr th {\n",
              "        vertical-align: top;\n",
              "    }\n",
              "\n",
              "    .dataframe thead th {\n",
              "        text-align: right;\n",
              "    }\n",
              "</style>\n",
              "<table border=\"1\" class=\"dataframe\">\n",
              "  <thead>\n",
              "    <tr style=\"text-align: right;\">\n",
              "      <th></th>\n",
              "      <th>Poste</th>\n",
              "      <th>Entreprise</th>\n",
              "      <th>Contrat</th>\n",
              "      <th>description</th>\n",
              "      <th>Localisation</th>\n",
              "      <th>salaire €</th>\n",
              "      <th>clean_description</th>\n",
              "    </tr>\n",
              "  </thead>\n",
              "  <tbody>\n",
              "    <tr>\n",
              "      <th>0</th>\n",
              "      <td>Tuyauteur (H/F)</td>\n",
              "      <td>ARTUS INTERIM VANNES</td>\n",
              "      <td>Intérim</td>\n",
              "      <td>Notre agence ARTUS INTERIM de Vannes recherche...</td>\n",
              "      <td>\\n                                ARTUS INTERI...</td>\n",
              "      <td>23000-30000</td>\n",
              "      <td>Notre agence ARTUS INTERIM de Vannes recherche...</td>\n",
              "    </tr>\n",
              "    <tr>\n",
              "      <th>1</th>\n",
              "      <td>MECANICIEN PL (H/F)</td>\n",
              "      <td>SOC GARAGE VEHICULES INDUSTRIELS</td>\n",
              "      <td>CDI</td>\n",
              "      <td>En tant que Mécanicien PL et rattaché au Chef ...</td>\n",
              "      <td>Évreux</td>\n",
              "      <td>23000-30000</td>\n",
              "      <td>En tant que Mécanicien PL et rattaché au Chef ...</td>\n",
              "    </tr>\n",
              "    <tr>\n",
              "      <th>2</th>\n",
              "      <td>Opérateur de production (H/F)</td>\n",
              "      <td>Manpower SABLE SUR SARTHE</td>\n",
              "      <td>Intérim 3 mois</td>\n",
              "      <td>Manpower SABLE SUR SARTHE recherche pour son c...</td>\n",
              "      <td>NaN</td>\n",
              "      <td>23000-30000</td>\n",
              "      <td>Manpower SABLE SUR SARTHE recherche pour son c...</td>\n",
              "    </tr>\n",
              "    <tr>\n",
              "      <th>3</th>\n",
              "      <td>TECHNICIEN ELECTROMECA SAV H/F</td>\n",
              "      <td>DE GRAËT CONSULTING|DE GRAET CONSULTING</td>\n",
              "      <td>CDI</td>\n",
              "      <td>Dans le cadre du développement constant de son...</td>\n",
              "      <td>NaN</td>\n",
              "      <td>23000-30000</td>\n",
              "      <td>Dans le cadre du développement constant de son...</td>\n",
              "    </tr>\n",
              "    <tr>\n",
              "      <th>4</th>\n",
              "      <td>ELECTRICIEN H/F</td>\n",
              "      <td>MENCO SAINT NAZAIRE</td>\n",
              "      <td>Intérim</td>\n",
              "      <td>\"MENCO ST NAZAIRE recrute des Électriciens con...</td>\n",
              "      <td>\\n                                FINANCIERE M...</td>\n",
              "      <td>5000-23000</td>\n",
              "      <td>MENCO ST NAZAIRE recrute des Électriciens conf...</td>\n",
              "    </tr>\n",
              "    <tr>\n",
              "      <th>...</th>\n",
              "      <td>...</td>\n",
              "      <td>...</td>\n",
              "      <td>...</td>\n",
              "      <td>...</td>\n",
              "      <td>...</td>\n",
              "      <td>...</td>\n",
              "      <td>...</td>\n",
              "    </tr>\n",
              "    <tr>\n",
              "      <th>4458</th>\n",
              "      <td>MEDECIN SPECIALISE EN PEDOPSYCHIATRIE H/F</td>\n",
              "      <td>UGECAM OCCITANIE</td>\n",
              "      <td>CDI</td>\n",
              "      <td>Contexte\\nLe Centre Médico Educatif de l’Enfan...</td>\n",
              "      <td>Montpellier (34)</td>\n",
              "      <td>43000-90000</td>\n",
              "      <td>Contexte\\nLe Centre Médico Educatif de l’Enfan...</td>\n",
              "    </tr>\n",
              "    <tr>\n",
              "      <th>4459</th>\n",
              "      <td>Médecin DIM (H/F)</td>\n",
              "      <td>UGECAM AQUITAINE</td>\n",
              "      <td>CDI</td>\n",
              "      <td>Contexte\\nL’UGECAM Aquitaine, organisme à but ...</td>\n",
              "      <td>Bruges (33)</td>\n",
              "      <td>30000-43000</td>\n",
              "      <td>Contexte\\nL’UGECAM Aquitaine organisme à but n...</td>\n",
              "    </tr>\n",
              "    <tr>\n",
              "      <th>4460</th>\n",
              "      <td>Médecin ophtalmologue médical /chirurgical H/F</td>\n",
              "      <td>HAYS</td>\n",
              "      <td>Temps plein, CDI, CDD</td>\n",
              "      <td>Mettez votre savoir faire au profit d'un établ...</td>\n",
              "      <td>Lyon (69)</td>\n",
              "      <td>90000-350000</td>\n",
              "      <td>Mettez votre savoir faire au profit dun établi...</td>\n",
              "    </tr>\n",
              "    <tr>\n",
              "      <th>4461</th>\n",
              "      <td>Médecin Généraliste H/F - Paris 11 Richard Lenoir</td>\n",
              "      <td>Expert et Santé</td>\n",
              "      <td>CDI</td>\n",
              "      <td>CD - IDF\\nNous recherchons pour nos partenaire...</td>\n",
              "      <td>Paris (75)</td>\n",
              "      <td>90000-350000</td>\n",
              "      <td>CD  IDF\\nNous recherchons pour nos partenaires...</td>\n",
              "    </tr>\n",
              "    <tr>\n",
              "      <th>4462</th>\n",
              "      <td>Médecin Généraliste (h/f)</td>\n",
              "      <td>Adecco Medical France</td>\n",
              "      <td>CDI</td>\n",
              "      <td>Votre mission\\nEtablissement IME situé à Drave...</td>\n",
              "      <td>91210 Draveil</td>\n",
              "      <td>43000-90000</td>\n",
              "      <td>Votre mission\\nEtablissement IME situé à Drave...</td>\n",
              "    </tr>\n",
              "  </tbody>\n",
              "</table>\n",
              "<p>4463 rows × 7 columns</p>\n",
              "</div>\n",
              "      <button class=\"colab-df-convert\" onclick=\"convertToInteractive('df-ea7ba332-a817-4093-8b21-3aead5444669')\"\n",
              "              title=\"Convert this dataframe to an interactive table.\"\n",
              "              style=\"display:none;\">\n",
              "        \n",
              "  <svg xmlns=\"http://www.w3.org/2000/svg\" height=\"24px\"viewBox=\"0 0 24 24\"\n",
              "       width=\"24px\">\n",
              "    <path d=\"M0 0h24v24H0V0z\" fill=\"none\"/>\n",
              "    <path d=\"M18.56 5.44l.94 2.06.94-2.06 2.06-.94-2.06-.94-.94-2.06-.94 2.06-2.06.94zm-11 1L8.5 8.5l.94-2.06 2.06-.94-2.06-.94L8.5 2.5l-.94 2.06-2.06.94zm10 10l.94 2.06.94-2.06 2.06-.94-2.06-.94-.94-2.06-.94 2.06-2.06.94z\"/><path d=\"M17.41 7.96l-1.37-1.37c-.4-.4-.92-.59-1.43-.59-.52 0-1.04.2-1.43.59L10.3 9.45l-7.72 7.72c-.78.78-.78 2.05 0 2.83L4 21.41c.39.39.9.59 1.41.59.51 0 1.02-.2 1.41-.59l7.78-7.78 2.81-2.81c.8-.78.8-2.07 0-2.86zM5.41 20L4 18.59l7.72-7.72 1.47 1.35L5.41 20z\"/>\n",
              "  </svg>\n",
              "      </button>\n",
              "      \n",
              "  <style>\n",
              "    .colab-df-container {\n",
              "      display:flex;\n",
              "      flex-wrap:wrap;\n",
              "      gap: 12px;\n",
              "    }\n",
              "\n",
              "    .colab-df-convert {\n",
              "      background-color: #E8F0FE;\n",
              "      border: none;\n",
              "      border-radius: 50%;\n",
              "      cursor: pointer;\n",
              "      display: none;\n",
              "      fill: #1967D2;\n",
              "      height: 32px;\n",
              "      padding: 0 0 0 0;\n",
              "      width: 32px;\n",
              "    }\n",
              "\n",
              "    .colab-df-convert:hover {\n",
              "      background-color: #E2EBFA;\n",
              "      box-shadow: 0px 1px 2px rgba(60, 64, 67, 0.3), 0px 1px 3px 1px rgba(60, 64, 67, 0.15);\n",
              "      fill: #174EA6;\n",
              "    }\n",
              "\n",
              "    [theme=dark] .colab-df-convert {\n",
              "      background-color: #3B4455;\n",
              "      fill: #D2E3FC;\n",
              "    }\n",
              "\n",
              "    [theme=dark] .colab-df-convert:hover {\n",
              "      background-color: #434B5C;\n",
              "      box-shadow: 0px 1px 3px 1px rgba(0, 0, 0, 0.15);\n",
              "      filter: drop-shadow(0px 1px 2px rgba(0, 0, 0, 0.3));\n",
              "      fill: #FFFFFF;\n",
              "    }\n",
              "  </style>\n",
              "\n",
              "      <script>\n",
              "        const buttonEl =\n",
              "          document.querySelector('#df-ea7ba332-a817-4093-8b21-3aead5444669 button.colab-df-convert');\n",
              "        buttonEl.style.display =\n",
              "          google.colab.kernel.accessAllowed ? 'block' : 'none';\n",
              "\n",
              "        async function convertToInteractive(key) {\n",
              "          const element = document.querySelector('#df-ea7ba332-a817-4093-8b21-3aead5444669');\n",
              "          const dataTable =\n",
              "            await google.colab.kernel.invokeFunction('convertToInteractive',\n",
              "                                                     [key], {});\n",
              "          if (!dataTable) return;\n",
              "\n",
              "          const docLinkHtml = 'Like what you see? Visit the ' +\n",
              "            '<a target=\"_blank\" href=https://colab.research.google.com/notebooks/data_table.ipynb>data table notebook</a>'\n",
              "            + ' to learn more about interactive tables.';\n",
              "          element.innerHTML = '';\n",
              "          dataTable['output_type'] = 'display_data';\n",
              "          await google.colab.output.renderOutput(dataTable, element);\n",
              "          const docLink = document.createElement('div');\n",
              "          docLink.innerHTML = docLinkHtml;\n",
              "          element.appendChild(docLink);\n",
              "        }\n",
              "      </script>\n",
              "    </div>\n",
              "  </div>\n",
              "  "
            ],
            "text/plain": [
              "                                                  Poste  \\\n",
              "0                                       Tuyauteur (H/F)   \n",
              "1                                   MECANICIEN PL (H/F)   \n",
              "2                         Opérateur de production (H/F)   \n",
              "3                        TECHNICIEN ELECTROMECA SAV H/F   \n",
              "4                                       ELECTRICIEN H/F   \n",
              "...                                                 ...   \n",
              "4458          MEDECIN SPECIALISE EN PEDOPSYCHIATRIE H/F   \n",
              "4459                                  Médecin DIM (H/F)   \n",
              "4460     Médecin ophtalmologue médical /chirurgical H/F   \n",
              "4461  Médecin Généraliste H/F - Paris 11 Richard Lenoir   \n",
              "4462                          Médecin Généraliste (h/f)   \n",
              "\n",
              "                                   Entreprise                 Contrat  \\\n",
              "0                        ARTUS INTERIM VANNES                Intérim    \n",
              "1            SOC GARAGE VEHICULES INDUSTRIELS                    CDI    \n",
              "2                   Manpower SABLE SUR SARTHE         Intérim 3 mois    \n",
              "3     DE GRAËT CONSULTING|DE GRAET CONSULTING                    CDI    \n",
              "4                         MENCO SAINT NAZAIRE                Intérim    \n",
              "...                                       ...                     ...   \n",
              "4458                         UGECAM OCCITANIE                     CDI   \n",
              "4459                         UGECAM AQUITAINE                     CDI   \n",
              "4460                                     HAYS   Temps plein, CDI, CDD   \n",
              "4461                          Expert et Santé                     CDI   \n",
              "4462                    Adecco Medical France                     CDI   \n",
              "\n",
              "                                            description  \\\n",
              "0     Notre agence ARTUS INTERIM de Vannes recherche...   \n",
              "1     En tant que Mécanicien PL et rattaché au Chef ...   \n",
              "2     Manpower SABLE SUR SARTHE recherche pour son c...   \n",
              "3     Dans le cadre du développement constant de son...   \n",
              "4     \"MENCO ST NAZAIRE recrute des Électriciens con...   \n",
              "...                                                 ...   \n",
              "4458  Contexte\\nLe Centre Médico Educatif de l’Enfan...   \n",
              "4459  Contexte\\nL’UGECAM Aquitaine, organisme à but ...   \n",
              "4460  Mettez votre savoir faire au profit d'un établ...   \n",
              "4461  CD - IDF\\nNous recherchons pour nos partenaire...   \n",
              "4462  Votre mission\\nEtablissement IME situé à Drave...   \n",
              "\n",
              "                                           Localisation     salaire €  \\\n",
              "0     \\n                                ARTUS INTERI...   23000-30000   \n",
              "1                                                Évreux   23000-30000   \n",
              "2                                                   NaN   23000-30000   \n",
              "3                                                   NaN   23000-30000   \n",
              "4     \\n                                FINANCIERE M...    5000-23000   \n",
              "...                                                 ...           ...   \n",
              "4458                                   Montpellier (34)   43000-90000   \n",
              "4459                                        Bruges (33)   30000-43000   \n",
              "4460                                          Lyon (69)  90000-350000   \n",
              "4461                                         Paris (75)  90000-350000   \n",
              "4462                                      91210 Draveil   43000-90000   \n",
              "\n",
              "                                      clean_description  \n",
              "0     Notre agence ARTUS INTERIM de Vannes recherche...  \n",
              "1     En tant que Mécanicien PL et rattaché au Chef ...  \n",
              "2     Manpower SABLE SUR SARTHE recherche pour son c...  \n",
              "3     Dans le cadre du développement constant de son...  \n",
              "4     MENCO ST NAZAIRE recrute des Électriciens conf...  \n",
              "...                                                 ...  \n",
              "4458  Contexte\\nLe Centre Médico Educatif de l’Enfan...  \n",
              "4459  Contexte\\nL’UGECAM Aquitaine organisme à but n...  \n",
              "4460  Mettez votre savoir faire au profit dun établi...  \n",
              "4461  CD  IDF\\nNous recherchons pour nos partenaires...  \n",
              "4462  Votre mission\\nEtablissement IME situé à Drave...  \n",
              "\n",
              "[4463 rows x 7 columns]"
            ]
          },
          "metadata": {},
          "execution_count": 13
        }
      ]
    },
    {
      "cell_type": "code",
      "source": [
        "!pip install nltk"
      ],
      "metadata": {
        "colab": {
          "base_uri": "https://localhost:8080/"
        },
        "id": "DxddMPohegcF",
        "outputId": "d42e7e60-7c2d-4e07-bf5f-35379506b7ba"
      },
      "execution_count": 14,
      "outputs": [
        {
          "output_type": "stream",
          "name": "stdout",
          "text": [
            "Requirement already satisfied: nltk in /usr/local/lib/python3.7/dist-packages (3.2.5)\n",
            "Requirement already satisfied: six in /usr/local/lib/python3.7/dist-packages (from nltk) (1.15.0)\n"
          ]
        }
      ]
    },
    {
      "cell_type": "code",
      "source": [
        "import nltk\n",
        "nltk.download('punkt')"
      ],
      "metadata": {
        "colab": {
          "base_uri": "https://localhost:8080/"
        },
        "id": "yFgxgOaxe-tt",
        "outputId": "0da94a33-8e40-483e-b7ba-067aa4fca7c1"
      },
      "execution_count": 15,
      "outputs": [
        {
          "output_type": "stream",
          "name": "stdout",
          "text": [
            "[nltk_data] Downloading package punkt to /root/nltk_data...\n",
            "[nltk_data]   Unzipping tokenizers/punkt.zip.\n"
          ]
        },
        {
          "output_type": "execute_result",
          "data": {
            "text/plain": [
              "True"
            ]
          },
          "metadata": {},
          "execution_count": 15
        }
      ]
    },
    {
      "cell_type": "code",
      "source": [
        "from nltk import word_tokenize, WordNetLemmatizer\n",
        "tokens = [word_tokenize(sen) for sen in data.clean_description] \n",
        "\n"
      ],
      "metadata": {
        "id": "oI6oCYoSXxmE"
      },
      "execution_count": 16,
      "outputs": []
    },
    {
      "cell_type": "code",
      "source": [
        "def lower_token(tokens): \n",
        "    return [w.lower() for w in tokens]    \n",
        "    \n",
        "lower_tokens = [lower_token(token) for token in tokens] "
      ],
      "metadata": {
        "id": "R4spzDrleZCO"
      },
      "execution_count": 17,
      "outputs": []
    },
    {
      "cell_type": "code",
      "source": [
        "nltk.download('stopwords')\n",
        "from nltk.corpus import stopwords\n",
        "stoplist = stopwords.words('french')\n",
        "\n"
      ],
      "metadata": {
        "colab": {
          "base_uri": "https://localhost:8080/"
        },
        "id": "PKbWJxPHfL16",
        "outputId": "c16c624e-ab77-4151-e271-358e567858a0"
      },
      "execution_count": 18,
      "outputs": [
        {
          "output_type": "stream",
          "name": "stdout",
          "text": [
            "[nltk_data] Downloading package stopwords to /root/nltk_data...\n",
            "[nltk_data]   Unzipping corpora/stopwords.zip.\n"
          ]
        }
      ]
    },
    {
      "cell_type": "code",
      "source": [
        "def remove_stop_words(tokens): \n",
        "    return [word for word in tokens if word not in stoplist]"
      ],
      "metadata": {
        "id": "i9GEHZxDfQV4"
      },
      "execution_count": 19,
      "outputs": []
    },
    {
      "cell_type": "code",
      "source": [
        "filtered_words = [remove_stop_words(sen) for sen in lower_tokens] "
      ],
      "metadata": {
        "id": "7tN8jownfrEc"
      },
      "execution_count": 20,
      "outputs": []
    },
    {
      "cell_type": "code",
      "source": [
        "result = [' '.join(sen) for sen in filtered_words] "
      ],
      "metadata": {
        "id": "sOqzbiXsfs55"
      },
      "execution_count": 21,
      "outputs": []
    },
    {
      "cell_type": "code",
      "source": [
        "\n",
        "\n",
        "data['description_Final'] = result\n"
      ],
      "metadata": {
        "id": "DePFuYizfw6Z"
      },
      "execution_count": 22,
      "outputs": []
    },
    {
      "cell_type": "code",
      "source": [
        "data"
      ],
      "metadata": {
        "colab": {
          "base_uri": "https://localhost:8080/",
          "height": 641
        },
        "id": "V2qAvBkMf3ES",
        "outputId": "ec667880-cfa0-4f48-8cef-1739e2d04345"
      },
      "execution_count": 23,
      "outputs": [
        {
          "output_type": "execute_result",
          "data": {
            "text/html": [
              "\n",
              "  <div id=\"df-69dde5ba-bbad-4ac4-a964-3351342e6094\">\n",
              "    <div class=\"colab-df-container\">\n",
              "      <div>\n",
              "<style scoped>\n",
              "    .dataframe tbody tr th:only-of-type {\n",
              "        vertical-align: middle;\n",
              "    }\n",
              "\n",
              "    .dataframe tbody tr th {\n",
              "        vertical-align: top;\n",
              "    }\n",
              "\n",
              "    .dataframe thead th {\n",
              "        text-align: right;\n",
              "    }\n",
              "</style>\n",
              "<table border=\"1\" class=\"dataframe\">\n",
              "  <thead>\n",
              "    <tr style=\"text-align: right;\">\n",
              "      <th></th>\n",
              "      <th>Poste</th>\n",
              "      <th>Entreprise</th>\n",
              "      <th>Contrat</th>\n",
              "      <th>description</th>\n",
              "      <th>Localisation</th>\n",
              "      <th>salaire €</th>\n",
              "      <th>clean_description</th>\n",
              "      <th>description_Final</th>\n",
              "    </tr>\n",
              "  </thead>\n",
              "  <tbody>\n",
              "    <tr>\n",
              "      <th>0</th>\n",
              "      <td>Tuyauteur (H/F)</td>\n",
              "      <td>ARTUS INTERIM VANNES</td>\n",
              "      <td>Intérim</td>\n",
              "      <td>Notre agence ARTUS INTERIM de Vannes recherche...</td>\n",
              "      <td>\\n                                ARTUS INTERI...</td>\n",
              "      <td>23000-30000</td>\n",
              "      <td>Notre agence ARTUS INTERIM de Vannes recherche...</td>\n",
              "      <td>agence artus interim vannes recherche lun clie...</td>\n",
              "    </tr>\n",
              "    <tr>\n",
              "      <th>1</th>\n",
              "      <td>MECANICIEN PL (H/F)</td>\n",
              "      <td>SOC GARAGE VEHICULES INDUSTRIELS</td>\n",
              "      <td>CDI</td>\n",
              "      <td>En tant que Mécanicien PL et rattaché au Chef ...</td>\n",
              "      <td>Évreux</td>\n",
              "      <td>23000-30000</td>\n",
              "      <td>En tant que Mécanicien PL et rattaché au Chef ...</td>\n",
              "      <td>tant mécanicien pl rattaché chef datelier diff...</td>\n",
              "    </tr>\n",
              "    <tr>\n",
              "      <th>2</th>\n",
              "      <td>Opérateur de production (H/F)</td>\n",
              "      <td>Manpower SABLE SUR SARTHE</td>\n",
              "      <td>Intérim 3 mois</td>\n",
              "      <td>Manpower SABLE SUR SARTHE recherche pour son c...</td>\n",
              "      <td>NaN</td>\n",
              "      <td>23000-30000</td>\n",
              "      <td>Manpower SABLE SUR SARTHE recherche pour son c...</td>\n",
              "      <td>manpower sable sarthe recherche client acteur ...</td>\n",
              "    </tr>\n",
              "    <tr>\n",
              "      <th>3</th>\n",
              "      <td>TECHNICIEN ELECTROMECA SAV H/F</td>\n",
              "      <td>DE GRAËT CONSULTING|DE GRAET CONSULTING</td>\n",
              "      <td>CDI</td>\n",
              "      <td>Dans le cadre du développement constant de son...</td>\n",
              "      <td>NaN</td>\n",
              "      <td>23000-30000</td>\n",
              "      <td>Dans le cadre du développement constant de son...</td>\n",
              "      <td>cadre développement constant activité garantir...</td>\n",
              "    </tr>\n",
              "    <tr>\n",
              "      <th>4</th>\n",
              "      <td>ELECTRICIEN H/F</td>\n",
              "      <td>MENCO SAINT NAZAIRE</td>\n",
              "      <td>Intérim</td>\n",
              "      <td>\"MENCO ST NAZAIRE recrute des Électriciens con...</td>\n",
              "      <td>\\n                                FINANCIERE M...</td>\n",
              "      <td>5000-23000</td>\n",
              "      <td>MENCO ST NAZAIRE recrute des Électriciens conf...</td>\n",
              "      <td>menco st nazaire recrute électriciens confirmé...</td>\n",
              "    </tr>\n",
              "    <tr>\n",
              "      <th>...</th>\n",
              "      <td>...</td>\n",
              "      <td>...</td>\n",
              "      <td>...</td>\n",
              "      <td>...</td>\n",
              "      <td>...</td>\n",
              "      <td>...</td>\n",
              "      <td>...</td>\n",
              "      <td>...</td>\n",
              "    </tr>\n",
              "    <tr>\n",
              "      <th>4458</th>\n",
              "      <td>MEDECIN SPECIALISE EN PEDOPSYCHIATRIE H/F</td>\n",
              "      <td>UGECAM OCCITANIE</td>\n",
              "      <td>CDI</td>\n",
              "      <td>Contexte\\nLe Centre Médico Educatif de l’Enfan...</td>\n",
              "      <td>Montpellier (34)</td>\n",
              "      <td>43000-90000</td>\n",
              "      <td>Contexte\\nLe Centre Médico Educatif de l’Enfan...</td>\n",
              "      <td>contexte centre médico educatif ’ enfance font...</td>\n",
              "    </tr>\n",
              "    <tr>\n",
              "      <th>4459</th>\n",
              "      <td>Médecin DIM (H/F)</td>\n",
              "      <td>UGECAM AQUITAINE</td>\n",
              "      <td>CDI</td>\n",
              "      <td>Contexte\\nL’UGECAM Aquitaine, organisme à but ...</td>\n",
              "      <td>Bruges (33)</td>\n",
              "      <td>30000-43000</td>\n",
              "      <td>Contexte\\nL’UGECAM Aquitaine organisme à but n...</td>\n",
              "      <td>contexte ’ ugecam aquitaine organisme but non ...</td>\n",
              "    </tr>\n",
              "    <tr>\n",
              "      <th>4460</th>\n",
              "      <td>Médecin ophtalmologue médical /chirurgical H/F</td>\n",
              "      <td>HAYS</td>\n",
              "      <td>Temps plein, CDI, CDD</td>\n",
              "      <td>Mettez votre savoir faire au profit d'un établ...</td>\n",
              "      <td>Lyon (69)</td>\n",
              "      <td>90000-350000</td>\n",
              "      <td>Mettez votre savoir faire au profit dun établi...</td>\n",
              "      <td>mettez savoir faire profit dun établissement d...</td>\n",
              "    </tr>\n",
              "    <tr>\n",
              "      <th>4461</th>\n",
              "      <td>Médecin Généraliste H/F - Paris 11 Richard Lenoir</td>\n",
              "      <td>Expert et Santé</td>\n",
              "      <td>CDI</td>\n",
              "      <td>CD - IDF\\nNous recherchons pour nos partenaire...</td>\n",
              "      <td>Paris (75)</td>\n",
              "      <td>90000-350000</td>\n",
              "      <td>CD  IDF\\nNous recherchons pour nos partenaires...</td>\n",
              "      <td>cd idf recherchons partenaires médecin général...</td>\n",
              "    </tr>\n",
              "    <tr>\n",
              "      <th>4462</th>\n",
              "      <td>Médecin Généraliste (h/f)</td>\n",
              "      <td>Adecco Medical France</td>\n",
              "      <td>CDI</td>\n",
              "      <td>Votre mission\\nEtablissement IME situé à Drave...</td>\n",
              "      <td>91210 Draveil</td>\n",
              "      <td>43000-90000</td>\n",
              "      <td>Votre mission\\nEtablissement IME situé à Drave...</td>\n",
              "      <td>mission etablissement ime situé draveil 91 30 ...</td>\n",
              "    </tr>\n",
              "  </tbody>\n",
              "</table>\n",
              "<p>4463 rows × 8 columns</p>\n",
              "</div>\n",
              "      <button class=\"colab-df-convert\" onclick=\"convertToInteractive('df-69dde5ba-bbad-4ac4-a964-3351342e6094')\"\n",
              "              title=\"Convert this dataframe to an interactive table.\"\n",
              "              style=\"display:none;\">\n",
              "        \n",
              "  <svg xmlns=\"http://www.w3.org/2000/svg\" height=\"24px\"viewBox=\"0 0 24 24\"\n",
              "       width=\"24px\">\n",
              "    <path d=\"M0 0h24v24H0V0z\" fill=\"none\"/>\n",
              "    <path d=\"M18.56 5.44l.94 2.06.94-2.06 2.06-.94-2.06-.94-.94-2.06-.94 2.06-2.06.94zm-11 1L8.5 8.5l.94-2.06 2.06-.94-2.06-.94L8.5 2.5l-.94 2.06-2.06.94zm10 10l.94 2.06.94-2.06 2.06-.94-2.06-.94-.94-2.06-.94 2.06-2.06.94z\"/><path d=\"M17.41 7.96l-1.37-1.37c-.4-.4-.92-.59-1.43-.59-.52 0-1.04.2-1.43.59L10.3 9.45l-7.72 7.72c-.78.78-.78 2.05 0 2.83L4 21.41c.39.39.9.59 1.41.59.51 0 1.02-.2 1.41-.59l7.78-7.78 2.81-2.81c.8-.78.8-2.07 0-2.86zM5.41 20L4 18.59l7.72-7.72 1.47 1.35L5.41 20z\"/>\n",
              "  </svg>\n",
              "      </button>\n",
              "      \n",
              "  <style>\n",
              "    .colab-df-container {\n",
              "      display:flex;\n",
              "      flex-wrap:wrap;\n",
              "      gap: 12px;\n",
              "    }\n",
              "\n",
              "    .colab-df-convert {\n",
              "      background-color: #E8F0FE;\n",
              "      border: none;\n",
              "      border-radius: 50%;\n",
              "      cursor: pointer;\n",
              "      display: none;\n",
              "      fill: #1967D2;\n",
              "      height: 32px;\n",
              "      padding: 0 0 0 0;\n",
              "      width: 32px;\n",
              "    }\n",
              "\n",
              "    .colab-df-convert:hover {\n",
              "      background-color: #E2EBFA;\n",
              "      box-shadow: 0px 1px 2px rgba(60, 64, 67, 0.3), 0px 1px 3px 1px rgba(60, 64, 67, 0.15);\n",
              "      fill: #174EA6;\n",
              "    }\n",
              "\n",
              "    [theme=dark] .colab-df-convert {\n",
              "      background-color: #3B4455;\n",
              "      fill: #D2E3FC;\n",
              "    }\n",
              "\n",
              "    [theme=dark] .colab-df-convert:hover {\n",
              "      background-color: #434B5C;\n",
              "      box-shadow: 0px 1px 3px 1px rgba(0, 0, 0, 0.15);\n",
              "      filter: drop-shadow(0px 1px 2px rgba(0, 0, 0, 0.3));\n",
              "      fill: #FFFFFF;\n",
              "    }\n",
              "  </style>\n",
              "\n",
              "      <script>\n",
              "        const buttonEl =\n",
              "          document.querySelector('#df-69dde5ba-bbad-4ac4-a964-3351342e6094 button.colab-df-convert');\n",
              "        buttonEl.style.display =\n",
              "          google.colab.kernel.accessAllowed ? 'block' : 'none';\n",
              "\n",
              "        async function convertToInteractive(key) {\n",
              "          const element = document.querySelector('#df-69dde5ba-bbad-4ac4-a964-3351342e6094');\n",
              "          const dataTable =\n",
              "            await google.colab.kernel.invokeFunction('convertToInteractive',\n",
              "                                                     [key], {});\n",
              "          if (!dataTable) return;\n",
              "\n",
              "          const docLinkHtml = 'Like what you see? Visit the ' +\n",
              "            '<a target=\"_blank\" href=https://colab.research.google.com/notebooks/data_table.ipynb>data table notebook</a>'\n",
              "            + ' to learn more about interactive tables.';\n",
              "          element.innerHTML = '';\n",
              "          dataTable['output_type'] = 'display_data';\n",
              "          await google.colab.output.renderOutput(dataTable, element);\n",
              "          const docLink = document.createElement('div');\n",
              "          docLink.innerHTML = docLinkHtml;\n",
              "          element.appendChild(docLink);\n",
              "        }\n",
              "      </script>\n",
              "    </div>\n",
              "  </div>\n",
              "  "
            ],
            "text/plain": [
              "                                                  Poste  \\\n",
              "0                                       Tuyauteur (H/F)   \n",
              "1                                   MECANICIEN PL (H/F)   \n",
              "2                         Opérateur de production (H/F)   \n",
              "3                        TECHNICIEN ELECTROMECA SAV H/F   \n",
              "4                                       ELECTRICIEN H/F   \n",
              "...                                                 ...   \n",
              "4458          MEDECIN SPECIALISE EN PEDOPSYCHIATRIE H/F   \n",
              "4459                                  Médecin DIM (H/F)   \n",
              "4460     Médecin ophtalmologue médical /chirurgical H/F   \n",
              "4461  Médecin Généraliste H/F - Paris 11 Richard Lenoir   \n",
              "4462                          Médecin Généraliste (h/f)   \n",
              "\n",
              "                                   Entreprise                 Contrat  \\\n",
              "0                        ARTUS INTERIM VANNES                Intérim    \n",
              "1            SOC GARAGE VEHICULES INDUSTRIELS                    CDI    \n",
              "2                   Manpower SABLE SUR SARTHE         Intérim 3 mois    \n",
              "3     DE GRAËT CONSULTING|DE GRAET CONSULTING                    CDI    \n",
              "4                         MENCO SAINT NAZAIRE                Intérim    \n",
              "...                                       ...                     ...   \n",
              "4458                         UGECAM OCCITANIE                     CDI   \n",
              "4459                         UGECAM AQUITAINE                     CDI   \n",
              "4460                                     HAYS   Temps plein, CDI, CDD   \n",
              "4461                          Expert et Santé                     CDI   \n",
              "4462                    Adecco Medical France                     CDI   \n",
              "\n",
              "                                            description  \\\n",
              "0     Notre agence ARTUS INTERIM de Vannes recherche...   \n",
              "1     En tant que Mécanicien PL et rattaché au Chef ...   \n",
              "2     Manpower SABLE SUR SARTHE recherche pour son c...   \n",
              "3     Dans le cadre du développement constant de son...   \n",
              "4     \"MENCO ST NAZAIRE recrute des Électriciens con...   \n",
              "...                                                 ...   \n",
              "4458  Contexte\\nLe Centre Médico Educatif de l’Enfan...   \n",
              "4459  Contexte\\nL’UGECAM Aquitaine, organisme à but ...   \n",
              "4460  Mettez votre savoir faire au profit d'un établ...   \n",
              "4461  CD - IDF\\nNous recherchons pour nos partenaire...   \n",
              "4462  Votre mission\\nEtablissement IME situé à Drave...   \n",
              "\n",
              "                                           Localisation     salaire €  \\\n",
              "0     \\n                                ARTUS INTERI...   23000-30000   \n",
              "1                                                Évreux   23000-30000   \n",
              "2                                                   NaN   23000-30000   \n",
              "3                                                   NaN   23000-30000   \n",
              "4     \\n                                FINANCIERE M...    5000-23000   \n",
              "...                                                 ...           ...   \n",
              "4458                                   Montpellier (34)   43000-90000   \n",
              "4459                                        Bruges (33)   30000-43000   \n",
              "4460                                          Lyon (69)  90000-350000   \n",
              "4461                                         Paris (75)  90000-350000   \n",
              "4462                                      91210 Draveil   43000-90000   \n",
              "\n",
              "                                      clean_description  \\\n",
              "0     Notre agence ARTUS INTERIM de Vannes recherche...   \n",
              "1     En tant que Mécanicien PL et rattaché au Chef ...   \n",
              "2     Manpower SABLE SUR SARTHE recherche pour son c...   \n",
              "3     Dans le cadre du développement constant de son...   \n",
              "4     MENCO ST NAZAIRE recrute des Électriciens conf...   \n",
              "...                                                 ...   \n",
              "4458  Contexte\\nLe Centre Médico Educatif de l’Enfan...   \n",
              "4459  Contexte\\nL’UGECAM Aquitaine organisme à but n...   \n",
              "4460  Mettez votre savoir faire au profit dun établi...   \n",
              "4461  CD  IDF\\nNous recherchons pour nos partenaires...   \n",
              "4462  Votre mission\\nEtablissement IME situé à Drave...   \n",
              "\n",
              "                                      description_Final  \n",
              "0     agence artus interim vannes recherche lun clie...  \n",
              "1     tant mécanicien pl rattaché chef datelier diff...  \n",
              "2     manpower sable sarthe recherche client acteur ...  \n",
              "3     cadre développement constant activité garantir...  \n",
              "4     menco st nazaire recrute électriciens confirmé...  \n",
              "...                                                 ...  \n",
              "4458  contexte centre médico educatif ’ enfance font...  \n",
              "4459  contexte ’ ugecam aquitaine organisme but non ...  \n",
              "4460  mettez savoir faire profit dun établissement d...  \n",
              "4461  cd idf recherchons partenaires médecin général...  \n",
              "4462  mission etablissement ime situé draveil 91 30 ...  \n",
              "\n",
              "[4463 rows x 8 columns]"
            ]
          },
          "metadata": {},
          "execution_count": 23
        }
      ]
    },
    {
      "cell_type": "code",
      "source": [
        "data['tokens'] = filtered_words"
      ],
      "metadata": {
        "id": "JKYksNm0f33R"
      },
      "execution_count": 24,
      "outputs": []
    },
    {
      "cell_type": "code",
      "source": [
        "data.head(5)"
      ],
      "metadata": {
        "colab": {
          "base_uri": "https://localhost:8080/",
          "height": 354
        },
        "id": "oepOpX-rf-vz",
        "outputId": "f6eee007-c80e-495f-c718-3fa893196189"
      },
      "execution_count": 25,
      "outputs": [
        {
          "output_type": "execute_result",
          "data": {
            "text/html": [
              "\n",
              "  <div id=\"df-5b1c5fdf-1c01-4b64-a1c8-dab3aeb0912a\">\n",
              "    <div class=\"colab-df-container\">\n",
              "      <div>\n",
              "<style scoped>\n",
              "    .dataframe tbody tr th:only-of-type {\n",
              "        vertical-align: middle;\n",
              "    }\n",
              "\n",
              "    .dataframe tbody tr th {\n",
              "        vertical-align: top;\n",
              "    }\n",
              "\n",
              "    .dataframe thead th {\n",
              "        text-align: right;\n",
              "    }\n",
              "</style>\n",
              "<table border=\"1\" class=\"dataframe\">\n",
              "  <thead>\n",
              "    <tr style=\"text-align: right;\">\n",
              "      <th></th>\n",
              "      <th>Poste</th>\n",
              "      <th>Entreprise</th>\n",
              "      <th>Contrat</th>\n",
              "      <th>description</th>\n",
              "      <th>Localisation</th>\n",
              "      <th>salaire €</th>\n",
              "      <th>clean_description</th>\n",
              "      <th>description_Final</th>\n",
              "      <th>tokens</th>\n",
              "    </tr>\n",
              "  </thead>\n",
              "  <tbody>\n",
              "    <tr>\n",
              "      <th>0</th>\n",
              "      <td>Tuyauteur (H/F)</td>\n",
              "      <td>ARTUS INTERIM VANNES</td>\n",
              "      <td>Intérim</td>\n",
              "      <td>Notre agence ARTUS INTERIM de Vannes recherche...</td>\n",
              "      <td>\\n                                ARTUS INTERI...</td>\n",
              "      <td>23000-30000</td>\n",
              "      <td>Notre agence ARTUS INTERIM de Vannes recherche...</td>\n",
              "      <td>agence artus interim vannes recherche lun clie...</td>\n",
              "      <td>[agence, artus, interim, vannes, recherche, lu...</td>\n",
              "    </tr>\n",
              "    <tr>\n",
              "      <th>1</th>\n",
              "      <td>MECANICIEN PL (H/F)</td>\n",
              "      <td>SOC GARAGE VEHICULES INDUSTRIELS</td>\n",
              "      <td>CDI</td>\n",
              "      <td>En tant que Mécanicien PL et rattaché au Chef ...</td>\n",
              "      <td>Évreux</td>\n",
              "      <td>23000-30000</td>\n",
              "      <td>En tant que Mécanicien PL et rattaché au Chef ...</td>\n",
              "      <td>tant mécanicien pl rattaché chef datelier diff...</td>\n",
              "      <td>[tant, mécanicien, pl, rattaché, chef, datelie...</td>\n",
              "    </tr>\n",
              "    <tr>\n",
              "      <th>2</th>\n",
              "      <td>Opérateur de production (H/F)</td>\n",
              "      <td>Manpower SABLE SUR SARTHE</td>\n",
              "      <td>Intérim 3 mois</td>\n",
              "      <td>Manpower SABLE SUR SARTHE recherche pour son c...</td>\n",
              "      <td>NaN</td>\n",
              "      <td>23000-30000</td>\n",
              "      <td>Manpower SABLE SUR SARTHE recherche pour son c...</td>\n",
              "      <td>manpower sable sarthe recherche client acteur ...</td>\n",
              "      <td>[manpower, sable, sarthe, recherche, client, a...</td>\n",
              "    </tr>\n",
              "    <tr>\n",
              "      <th>3</th>\n",
              "      <td>TECHNICIEN ELECTROMECA SAV H/F</td>\n",
              "      <td>DE GRAËT CONSULTING|DE GRAET CONSULTING</td>\n",
              "      <td>CDI</td>\n",
              "      <td>Dans le cadre du développement constant de son...</td>\n",
              "      <td>NaN</td>\n",
              "      <td>23000-30000</td>\n",
              "      <td>Dans le cadre du développement constant de son...</td>\n",
              "      <td>cadre développement constant activité garantir...</td>\n",
              "      <td>[cadre, développement, constant, activité, gar...</td>\n",
              "    </tr>\n",
              "    <tr>\n",
              "      <th>4</th>\n",
              "      <td>ELECTRICIEN H/F</td>\n",
              "      <td>MENCO SAINT NAZAIRE</td>\n",
              "      <td>Intérim</td>\n",
              "      <td>\"MENCO ST NAZAIRE recrute des Électriciens con...</td>\n",
              "      <td>\\n                                FINANCIERE M...</td>\n",
              "      <td>5000-23000</td>\n",
              "      <td>MENCO ST NAZAIRE recrute des Électriciens conf...</td>\n",
              "      <td>menco st nazaire recrute électriciens confirmé...</td>\n",
              "      <td>[menco, st, nazaire, recrute, électriciens, co...</td>\n",
              "    </tr>\n",
              "  </tbody>\n",
              "</table>\n",
              "</div>\n",
              "      <button class=\"colab-df-convert\" onclick=\"convertToInteractive('df-5b1c5fdf-1c01-4b64-a1c8-dab3aeb0912a')\"\n",
              "              title=\"Convert this dataframe to an interactive table.\"\n",
              "              style=\"display:none;\">\n",
              "        \n",
              "  <svg xmlns=\"http://www.w3.org/2000/svg\" height=\"24px\"viewBox=\"0 0 24 24\"\n",
              "       width=\"24px\">\n",
              "    <path d=\"M0 0h24v24H0V0z\" fill=\"none\"/>\n",
              "    <path d=\"M18.56 5.44l.94 2.06.94-2.06 2.06-.94-2.06-.94-.94-2.06-.94 2.06-2.06.94zm-11 1L8.5 8.5l.94-2.06 2.06-.94-2.06-.94L8.5 2.5l-.94 2.06-2.06.94zm10 10l.94 2.06.94-2.06 2.06-.94-2.06-.94-.94-2.06-.94 2.06-2.06.94z\"/><path d=\"M17.41 7.96l-1.37-1.37c-.4-.4-.92-.59-1.43-.59-.52 0-1.04.2-1.43.59L10.3 9.45l-7.72 7.72c-.78.78-.78 2.05 0 2.83L4 21.41c.39.39.9.59 1.41.59.51 0 1.02-.2 1.41-.59l7.78-7.78 2.81-2.81c.8-.78.8-2.07 0-2.86zM5.41 20L4 18.59l7.72-7.72 1.47 1.35L5.41 20z\"/>\n",
              "  </svg>\n",
              "      </button>\n",
              "      \n",
              "  <style>\n",
              "    .colab-df-container {\n",
              "      display:flex;\n",
              "      flex-wrap:wrap;\n",
              "      gap: 12px;\n",
              "    }\n",
              "\n",
              "    .colab-df-convert {\n",
              "      background-color: #E8F0FE;\n",
              "      border: none;\n",
              "      border-radius: 50%;\n",
              "      cursor: pointer;\n",
              "      display: none;\n",
              "      fill: #1967D2;\n",
              "      height: 32px;\n",
              "      padding: 0 0 0 0;\n",
              "      width: 32px;\n",
              "    }\n",
              "\n",
              "    .colab-df-convert:hover {\n",
              "      background-color: #E2EBFA;\n",
              "      box-shadow: 0px 1px 2px rgba(60, 64, 67, 0.3), 0px 1px 3px 1px rgba(60, 64, 67, 0.15);\n",
              "      fill: #174EA6;\n",
              "    }\n",
              "\n",
              "    [theme=dark] .colab-df-convert {\n",
              "      background-color: #3B4455;\n",
              "      fill: #D2E3FC;\n",
              "    }\n",
              "\n",
              "    [theme=dark] .colab-df-convert:hover {\n",
              "      background-color: #434B5C;\n",
              "      box-shadow: 0px 1px 3px 1px rgba(0, 0, 0, 0.15);\n",
              "      filter: drop-shadow(0px 1px 2px rgba(0, 0, 0, 0.3));\n",
              "      fill: #FFFFFF;\n",
              "    }\n",
              "  </style>\n",
              "\n",
              "      <script>\n",
              "        const buttonEl =\n",
              "          document.querySelector('#df-5b1c5fdf-1c01-4b64-a1c8-dab3aeb0912a button.colab-df-convert');\n",
              "        buttonEl.style.display =\n",
              "          google.colab.kernel.accessAllowed ? 'block' : 'none';\n",
              "\n",
              "        async function convertToInteractive(key) {\n",
              "          const element = document.querySelector('#df-5b1c5fdf-1c01-4b64-a1c8-dab3aeb0912a');\n",
              "          const dataTable =\n",
              "            await google.colab.kernel.invokeFunction('convertToInteractive',\n",
              "                                                     [key], {});\n",
              "          if (!dataTable) return;\n",
              "\n",
              "          const docLinkHtml = 'Like what you see? Visit the ' +\n",
              "            '<a target=\"_blank\" href=https://colab.research.google.com/notebooks/data_table.ipynb>data table notebook</a>'\n",
              "            + ' to learn more about interactive tables.';\n",
              "          element.innerHTML = '';\n",
              "          dataTable['output_type'] = 'display_data';\n",
              "          await google.colab.output.renderOutput(dataTable, element);\n",
              "          const docLink = document.createElement('div');\n",
              "          docLink.innerHTML = docLinkHtml;\n",
              "          element.appendChild(docLink);\n",
              "        }\n",
              "      </script>\n",
              "    </div>\n",
              "  </div>\n",
              "  "
            ],
            "text/plain": [
              "                            Poste                               Entreprise  \\\n",
              "0                 Tuyauteur (H/F)                     ARTUS INTERIM VANNES   \n",
              "1             MECANICIEN PL (H/F)         SOC GARAGE VEHICULES INDUSTRIELS   \n",
              "2   Opérateur de production (H/F)                Manpower SABLE SUR SARTHE   \n",
              "3  TECHNICIEN ELECTROMECA SAV H/F  DE GRAËT CONSULTING|DE GRAET CONSULTING   \n",
              "4                 ELECTRICIEN H/F                      MENCO SAINT NAZAIRE   \n",
              "\n",
              "           Contrat                                        description  \\\n",
              "0         Intérim   Notre agence ARTUS INTERIM de Vannes recherche...   \n",
              "1             CDI   En tant que Mécanicien PL et rattaché au Chef ...   \n",
              "2  Intérim 3 mois   Manpower SABLE SUR SARTHE recherche pour son c...   \n",
              "3             CDI   Dans le cadre du développement constant de son...   \n",
              "4         Intérim   \"MENCO ST NAZAIRE recrute des Électriciens con...   \n",
              "\n",
              "                                        Localisation    salaire €  \\\n",
              "0  \\n                                ARTUS INTERI...  23000-30000   \n",
              "1                                             Évreux  23000-30000   \n",
              "2                                                NaN  23000-30000   \n",
              "3                                                NaN  23000-30000   \n",
              "4  \\n                                FINANCIERE M...   5000-23000   \n",
              "\n",
              "                                   clean_description  \\\n",
              "0  Notre agence ARTUS INTERIM de Vannes recherche...   \n",
              "1  En tant que Mécanicien PL et rattaché au Chef ...   \n",
              "2  Manpower SABLE SUR SARTHE recherche pour son c...   \n",
              "3  Dans le cadre du développement constant de son...   \n",
              "4  MENCO ST NAZAIRE recrute des Électriciens conf...   \n",
              "\n",
              "                                   description_Final  \\\n",
              "0  agence artus interim vannes recherche lun clie...   \n",
              "1  tant mécanicien pl rattaché chef datelier diff...   \n",
              "2  manpower sable sarthe recherche client acteur ...   \n",
              "3  cadre développement constant activité garantir...   \n",
              "4  menco st nazaire recrute électriciens confirmé...   \n",
              "\n",
              "                                              tokens  \n",
              "0  [agence, artus, interim, vannes, recherche, lu...  \n",
              "1  [tant, mécanicien, pl, rattaché, chef, datelie...  \n",
              "2  [manpower, sable, sarthe, recherche, client, a...  \n",
              "3  [cadre, développement, constant, activité, gar...  \n",
              "4  [menco, st, nazaire, recrute, électriciens, co...  "
            ]
          },
          "metadata": {},
          "execution_count": 25
        }
      ]
    },
    {
      "cell_type": "code",
      "source": [
        "\n",
        "\n",
        "data = data[['description_Final', 'tokens', 'salaire €']]\n",
        "\n"
      ],
      "metadata": {
        "id": "DJjWb0ozgAvx"
      },
      "execution_count": 26,
      "outputs": []
    },
    {
      "cell_type": "code",
      "source": [
        "data"
      ],
      "metadata": {
        "colab": {
          "base_uri": "https://localhost:8080/",
          "height": 424
        },
        "id": "C7qMZDWegOz2",
        "outputId": "b74f56ae-e0a7-45a3-a242-995304723ff1"
      },
      "execution_count": 27,
      "outputs": [
        {
          "output_type": "execute_result",
          "data": {
            "text/html": [
              "\n",
              "  <div id=\"df-2e75bc72-af3c-46b4-880b-baec4832c18e\">\n",
              "    <div class=\"colab-df-container\">\n",
              "      <div>\n",
              "<style scoped>\n",
              "    .dataframe tbody tr th:only-of-type {\n",
              "        vertical-align: middle;\n",
              "    }\n",
              "\n",
              "    .dataframe tbody tr th {\n",
              "        vertical-align: top;\n",
              "    }\n",
              "\n",
              "    .dataframe thead th {\n",
              "        text-align: right;\n",
              "    }\n",
              "</style>\n",
              "<table border=\"1\" class=\"dataframe\">\n",
              "  <thead>\n",
              "    <tr style=\"text-align: right;\">\n",
              "      <th></th>\n",
              "      <th>description_Final</th>\n",
              "      <th>tokens</th>\n",
              "      <th>salaire €</th>\n",
              "    </tr>\n",
              "  </thead>\n",
              "  <tbody>\n",
              "    <tr>\n",
              "      <th>0</th>\n",
              "      <td>agence artus interim vannes recherche lun clie...</td>\n",
              "      <td>[agence, artus, interim, vannes, recherche, lu...</td>\n",
              "      <td>23000-30000</td>\n",
              "    </tr>\n",
              "    <tr>\n",
              "      <th>1</th>\n",
              "      <td>tant mécanicien pl rattaché chef datelier diff...</td>\n",
              "      <td>[tant, mécanicien, pl, rattaché, chef, datelie...</td>\n",
              "      <td>23000-30000</td>\n",
              "    </tr>\n",
              "    <tr>\n",
              "      <th>2</th>\n",
              "      <td>manpower sable sarthe recherche client acteur ...</td>\n",
              "      <td>[manpower, sable, sarthe, recherche, client, a...</td>\n",
              "      <td>23000-30000</td>\n",
              "    </tr>\n",
              "    <tr>\n",
              "      <th>3</th>\n",
              "      <td>cadre développement constant activité garantir...</td>\n",
              "      <td>[cadre, développement, constant, activité, gar...</td>\n",
              "      <td>23000-30000</td>\n",
              "    </tr>\n",
              "    <tr>\n",
              "      <th>4</th>\n",
              "      <td>menco st nazaire recrute électriciens confirmé...</td>\n",
              "      <td>[menco, st, nazaire, recrute, électriciens, co...</td>\n",
              "      <td>5000-23000</td>\n",
              "    </tr>\n",
              "    <tr>\n",
              "      <th>...</th>\n",
              "      <td>...</td>\n",
              "      <td>...</td>\n",
              "      <td>...</td>\n",
              "    </tr>\n",
              "    <tr>\n",
              "      <th>4458</th>\n",
              "      <td>contexte centre médico educatif ’ enfance font...</td>\n",
              "      <td>[contexte, centre, médico, educatif, ’, enfanc...</td>\n",
              "      <td>43000-90000</td>\n",
              "    </tr>\n",
              "    <tr>\n",
              "      <th>4459</th>\n",
              "      <td>contexte ’ ugecam aquitaine organisme but non ...</td>\n",
              "      <td>[contexte, ’, ugecam, aquitaine, organisme, bu...</td>\n",
              "      <td>30000-43000</td>\n",
              "    </tr>\n",
              "    <tr>\n",
              "      <th>4460</th>\n",
              "      <td>mettez savoir faire profit dun établissement d...</td>\n",
              "      <td>[mettez, savoir, faire, profit, dun, établisse...</td>\n",
              "      <td>90000-350000</td>\n",
              "    </tr>\n",
              "    <tr>\n",
              "      <th>4461</th>\n",
              "      <td>cd idf recherchons partenaires médecin général...</td>\n",
              "      <td>[cd, idf, recherchons, partenaires, médecin, g...</td>\n",
              "      <td>90000-350000</td>\n",
              "    </tr>\n",
              "    <tr>\n",
              "      <th>4462</th>\n",
              "      <td>mission etablissement ime situé draveil 91 30 ...</td>\n",
              "      <td>[mission, etablissement, ime, situé, draveil, ...</td>\n",
              "      <td>43000-90000</td>\n",
              "    </tr>\n",
              "  </tbody>\n",
              "</table>\n",
              "<p>4463 rows × 3 columns</p>\n",
              "</div>\n",
              "      <button class=\"colab-df-convert\" onclick=\"convertToInteractive('df-2e75bc72-af3c-46b4-880b-baec4832c18e')\"\n",
              "              title=\"Convert this dataframe to an interactive table.\"\n",
              "              style=\"display:none;\">\n",
              "        \n",
              "  <svg xmlns=\"http://www.w3.org/2000/svg\" height=\"24px\"viewBox=\"0 0 24 24\"\n",
              "       width=\"24px\">\n",
              "    <path d=\"M0 0h24v24H0V0z\" fill=\"none\"/>\n",
              "    <path d=\"M18.56 5.44l.94 2.06.94-2.06 2.06-.94-2.06-.94-.94-2.06-.94 2.06-2.06.94zm-11 1L8.5 8.5l.94-2.06 2.06-.94-2.06-.94L8.5 2.5l-.94 2.06-2.06.94zm10 10l.94 2.06.94-2.06 2.06-.94-2.06-.94-.94-2.06-.94 2.06-2.06.94z\"/><path d=\"M17.41 7.96l-1.37-1.37c-.4-.4-.92-.59-1.43-.59-.52 0-1.04.2-1.43.59L10.3 9.45l-7.72 7.72c-.78.78-.78 2.05 0 2.83L4 21.41c.39.39.9.59 1.41.59.51 0 1.02-.2 1.41-.59l7.78-7.78 2.81-2.81c.8-.78.8-2.07 0-2.86zM5.41 20L4 18.59l7.72-7.72 1.47 1.35L5.41 20z\"/>\n",
              "  </svg>\n",
              "      </button>\n",
              "      \n",
              "  <style>\n",
              "    .colab-df-container {\n",
              "      display:flex;\n",
              "      flex-wrap:wrap;\n",
              "      gap: 12px;\n",
              "    }\n",
              "\n",
              "    .colab-df-convert {\n",
              "      background-color: #E8F0FE;\n",
              "      border: none;\n",
              "      border-radius: 50%;\n",
              "      cursor: pointer;\n",
              "      display: none;\n",
              "      fill: #1967D2;\n",
              "      height: 32px;\n",
              "      padding: 0 0 0 0;\n",
              "      width: 32px;\n",
              "    }\n",
              "\n",
              "    .colab-df-convert:hover {\n",
              "      background-color: #E2EBFA;\n",
              "      box-shadow: 0px 1px 2px rgba(60, 64, 67, 0.3), 0px 1px 3px 1px rgba(60, 64, 67, 0.15);\n",
              "      fill: #174EA6;\n",
              "    }\n",
              "\n",
              "    [theme=dark] .colab-df-convert {\n",
              "      background-color: #3B4455;\n",
              "      fill: #D2E3FC;\n",
              "    }\n",
              "\n",
              "    [theme=dark] .colab-df-convert:hover {\n",
              "      background-color: #434B5C;\n",
              "      box-shadow: 0px 1px 3px 1px rgba(0, 0, 0, 0.15);\n",
              "      filter: drop-shadow(0px 1px 2px rgba(0, 0, 0, 0.3));\n",
              "      fill: #FFFFFF;\n",
              "    }\n",
              "  </style>\n",
              "\n",
              "      <script>\n",
              "        const buttonEl =\n",
              "          document.querySelector('#df-2e75bc72-af3c-46b4-880b-baec4832c18e button.colab-df-convert');\n",
              "        buttonEl.style.display =\n",
              "          google.colab.kernel.accessAllowed ? 'block' : 'none';\n",
              "\n",
              "        async function convertToInteractive(key) {\n",
              "          const element = document.querySelector('#df-2e75bc72-af3c-46b4-880b-baec4832c18e');\n",
              "          const dataTable =\n",
              "            await google.colab.kernel.invokeFunction('convertToInteractive',\n",
              "                                                     [key], {});\n",
              "          if (!dataTable) return;\n",
              "\n",
              "          const docLinkHtml = 'Like what you see? Visit the ' +\n",
              "            '<a target=\"_blank\" href=https://colab.research.google.com/notebooks/data_table.ipynb>data table notebook</a>'\n",
              "            + ' to learn more about interactive tables.';\n",
              "          element.innerHTML = '';\n",
              "          dataTable['output_type'] = 'display_data';\n",
              "          await google.colab.output.renderOutput(dataTable, element);\n",
              "          const docLink = document.createElement('div');\n",
              "          docLink.innerHTML = docLinkHtml;\n",
              "          element.appendChild(docLink);\n",
              "        }\n",
              "      </script>\n",
              "    </div>\n",
              "  </div>\n",
              "  "
            ],
            "text/plain": [
              "                                      description_Final  \\\n",
              "0     agence artus interim vannes recherche lun clie...   \n",
              "1     tant mécanicien pl rattaché chef datelier diff...   \n",
              "2     manpower sable sarthe recherche client acteur ...   \n",
              "3     cadre développement constant activité garantir...   \n",
              "4     menco st nazaire recrute électriciens confirmé...   \n",
              "...                                                 ...   \n",
              "4458  contexte centre médico educatif ’ enfance font...   \n",
              "4459  contexte ’ ugecam aquitaine organisme but non ...   \n",
              "4460  mettez savoir faire profit dun établissement d...   \n",
              "4461  cd idf recherchons partenaires médecin général...   \n",
              "4462  mission etablissement ime situé draveil 91 30 ...   \n",
              "\n",
              "                                                 tokens     salaire €  \n",
              "0     [agence, artus, interim, vannes, recherche, lu...   23000-30000  \n",
              "1     [tant, mécanicien, pl, rattaché, chef, datelie...   23000-30000  \n",
              "2     [manpower, sable, sarthe, recherche, client, a...   23000-30000  \n",
              "3     [cadre, développement, constant, activité, gar...   23000-30000  \n",
              "4     [menco, st, nazaire, recrute, électriciens, co...    5000-23000  \n",
              "...                                                 ...           ...  \n",
              "4458  [contexte, centre, médico, educatif, ’, enfanc...   43000-90000  \n",
              "4459  [contexte, ’, ugecam, aquitaine, organisme, bu...   30000-43000  \n",
              "4460  [mettez, savoir, faire, profit, dun, établisse...  90000-350000  \n",
              "4461  [cd, idf, recherchons, partenaires, médecin, g...  90000-350000  \n",
              "4462  [mission, etablissement, ime, situé, draveil, ...   43000-90000  \n",
              "\n",
              "[4463 rows x 3 columns]"
            ]
          },
          "metadata": {},
          "execution_count": 27
        }
      ]
    },
    {
      "cell_type": "code",
      "source": [
        "from sklearn.preprocessing import LabelEncoder\n",
        "LE = LabelEncoder()\n",
        "labels= data[\"salaire €\"]\n",
        "labels = LE.fit_transform(labels)"
      ],
      "metadata": {
        "id": "qq4SG-2Cgeza"
      },
      "execution_count": 28,
      "outputs": []
    },
    {
      "cell_type": "code",
      "source": [
        "data[\"salaire €\"]= labels"
      ],
      "metadata": {
        "colab": {
          "base_uri": "https://localhost:8080/"
        },
        "id": "xtCiCResgrjU",
        "outputId": "c197aead-8007-4f9c-b502-edc3d9c79a7e"
      },
      "execution_count": 29,
      "outputs": [
        {
          "output_type": "stream",
          "name": "stderr",
          "text": [
            "/usr/local/lib/python3.7/dist-packages/ipykernel_launcher.py:1: SettingWithCopyWarning: \n",
            "A value is trying to be set on a copy of a slice from a DataFrame.\n",
            "Try using .loc[row_indexer,col_indexer] = value instead\n",
            "\n",
            "See the caveats in the documentation: https://pandas.pydata.org/pandas-docs/stable/user_guide/indexing.html#returning-a-view-versus-a-copy\n",
            "  \"\"\"Entry point for launching an IPython kernel.\n"
          ]
        }
      ]
    },
    {
      "cell_type": "code",
      "source": [
        "data_train, data_test = train_test_split(data, test_size=0.10, random_state=42)"
      ],
      "metadata": {
        "id": "DikMxnVdgPrP"
      },
      "execution_count": 30,
      "outputs": []
    },
    {
      "cell_type": "code",
      "source": [
        "\n",
        "\n",
        "all_training_words = [word for tokens in data_train[\"tokens\"] for word in tokens]\n",
        "training_sentence_lengths = [len(tokens) for tokens in data_train[\"tokens\"]]\n",
        "TRAINING_VOCAB = sorted(list(set(all_training_words)))\n",
        "print(\"%s words total, with a vocabulary size of %s\" % (len(all_training_words), len(TRAINING_VOCAB)))\n",
        "print(\"Max sentence length is %s\" % max(training_sentence_lengths))\n",
        "\n"
      ],
      "metadata": {
        "colab": {
          "base_uri": "https://localhost:8080/"
        },
        "id": "r9tWB5UNgV3W",
        "outputId": "f1d8c6e4-9e10-4411-b860-e832e489379e"
      },
      "execution_count": 177,
      "outputs": [
        {
          "output_type": "stream",
          "name": "stdout",
          "text": [
            "533476 words total, with a vocabulary size of 36274\n",
            "Max sentence length is 1424\n"
          ]
        }
      ]
    },
    {
      "cell_type": "code",
      "source": [
        "all_test_words = [word for tokens in data_test[\"tokens\"] for word in tokens]\n",
        "test_sentence_lengths = [len(tokens) for tokens in data_test[\"tokens\"]]\n",
        "TEST_VOCAB = sorted(list(set(all_test_words)))\n",
        "print(\"%s words total, with a vocabulary size of %s\" % (len(all_test_words), len(TEST_VOCAB)))\n",
        "print(\"Max sentence length is %s\" % max(test_sentence_lengths))"
      ],
      "metadata": {
        "colab": {
          "base_uri": "https://localhost:8080/"
        },
        "id": "4sfMx-3sg3x7",
        "outputId": "b83c3145-0bdc-41c9-a1e3-43b27648ef59"
      },
      "execution_count": 178,
      "outputs": [
        {
          "output_type": "stream",
          "name": "stdout",
          "text": [
            "57840 words total, with a vocabulary size of 11232\n",
            "Max sentence length is 617\n"
          ]
        }
      ]
    },
    {
      "cell_type": "code",
      "source": [
        "word2vec = glove_model"
      ],
      "metadata": {
        "id": "ZGhgULDBhNc_"
      },
      "execution_count": 179,
      "outputs": []
    },
    {
      "cell_type": "code",
      "source": [
        "\n",
        "\n",
        "def get_average_word2vec(tokens_list, vector, generate_missing=False, k=300):\n",
        "    if len(tokens_list)<1:\n",
        "        return np.zeros(k)\n",
        "    if generate_missing:\n",
        "        vectorized = [vector[word] if word in vector else np.random.rand(k) for word in tokens_list]\n",
        "    else:\n",
        "        vectorized = [vector[word] if word in vector else np.zeros(k) for word in tokens_list]\n",
        "    length = len(vectorized)\n",
        "    summed = np.sum(vectorized, axis=0)\n",
        "    averaged = np.divide(summed, length)\n",
        "    return averaged"
      ],
      "metadata": {
        "id": "0ZvUIzfZhfNZ"
      },
      "execution_count": 180,
      "outputs": []
    },
    {
      "cell_type": "code",
      "source": [
        "def get_word2vec_embeddings(vectors, clean_comments, generate_missing=False):\n",
        "    embeddings = clean_comments['tokens'].apply(lambda x: get_average_word2vec(x, vectors, \n",
        "                                                                                generate_missing=generate_missing))\n",
        "    return list(embeddings)"
      ],
      "metadata": {
        "id": "sgw8t3pxhlGH"
      },
      "execution_count": 181,
      "outputs": []
    },
    {
      "cell_type": "code",
      "source": [
        "training_embeddings = get_word2vec_embeddings(word2vec, data_train, generate_missing=True)"
      ],
      "metadata": {
        "id": "vHV7kA5Hhnhv"
      },
      "execution_count": 182,
      "outputs": []
    },
    {
      "cell_type": "code",
      "source": [
        "MAX_SEQUENCE_LENGTH = 50\n",
        "EMBEDDING_DIM = 300\n"
      ],
      "metadata": {
        "id": "HnoWSZ8Vhqdo"
      },
      "execution_count": 189,
      "outputs": []
    },
    {
      "cell_type": "code",
      "source": [
        "tokenizer = Tokenizer(num_words=len(TRAINING_VOCAB), lower=True, char_level=False)\n",
        "tokenizer.fit_on_texts(data_train[\"description_Final\"].tolist())\n",
        "training_sequences = tokenizer.texts_to_sequences(data_train[\"description_Final\"].tolist())\n",
        "\n",
        "train_word_index = tokenizer.word_index\n",
        "print('Found %s unique tokens.' % len(train_word_index))"
      ],
      "metadata": {
        "colab": {
          "base_uri": "https://localhost:8080/"
        },
        "id": "_96Pbxnvhuep",
        "outputId": "b22573c8-070b-43f2-87ea-d05e7e2856b8"
      },
      "execution_count": 190,
      "outputs": [
        {
          "output_type": "stream",
          "name": "stdout",
          "text": [
            "Found 36246 unique tokens.\n"
          ]
        }
      ]
    },
    {
      "cell_type": "code",
      "source": [
        "train_cnn_data = pad_sequences(training_sequences, maxlen=MAX_SEQUENCE_LENGTH)"
      ],
      "metadata": {
        "id": "mD-5boKSh4oI"
      },
      "execution_count": 191,
      "outputs": []
    },
    {
      "cell_type": "code",
      "source": [
        "\n",
        "\n",
        "train_embedding_weights = np.zeros((len(train_word_index)+1, EMBEDDING_DIM))\n",
        "for word,index in train_word_index.items():\n",
        "    train_embedding_weights[index,:] = word2vec[word] if word in word2vec else np.random.rand(EMBEDDING_DIM)\n",
        "print(train_embedding_weights.shape)\n",
        "\n"
      ],
      "metadata": {
        "colab": {
          "base_uri": "https://localhost:8080/"
        },
        "id": "-MVWio9Dh9v5",
        "outputId": "48e3ca8f-b444-4009-ac2d-914fb1370339"
      },
      "execution_count": 192,
      "outputs": [
        {
          "output_type": "stream",
          "name": "stdout",
          "text": [
            "(36247, 300)\n"
          ]
        }
      ]
    },
    {
      "cell_type": "code",
      "source": [
        "test_sequences = tokenizer.texts_to_sequences(data_test[\"description_Final\"].tolist())\n",
        "test_cnn_data = pad_sequences(test_sequences, maxlen=MAX_SEQUENCE_LENGTH)\n"
      ],
      "metadata": {
        "id": "-JEYOzu9iBe0"
      },
      "execution_count": 193,
      "outputs": []
    },
    {
      "cell_type": "code",
      "source": [
        "def ConvNet(embeddings, max_sequence_length, num_words, embedding_dim, labels_index):\n",
        "    \n",
        "    embedding_layer = Embedding(num_words,\n",
        "                            embedding_dim,\n",
        "                            weights=[embeddings],\n",
        "                            input_length=max_sequence_length,\n",
        "                            trainable=False)\n",
        "    \n",
        "    sequence_input = Input(shape=(max_sequence_length,), dtype='int32')\n",
        "    embedded_sequences = embedding_layer(sequence_input)\n",
        "\n",
        "    convs = []\n",
        "    filter_sizes = [2,3,4,5,6]\n",
        "\n",
        "    for filter_size in filter_sizes:\n",
        "        l_conv = Conv1D(filters=200, kernel_size=filter_size, activation='relu')(embedded_sequences)\n",
        "        l_pool = GlobalMaxPooling1D()(l_conv)\n",
        "        convs.append(l_pool)\n",
        "\n",
        "\n",
        "    l_merge = concatenate(convs, axis=1)\n",
        "    \n",
        "    x = Dropout(0.3)(l_merge)  \n",
        "    x = Dense(512, activation='relu')(x)\n",
        "    x = Dropout(0.2)(x)\n",
        "    \n",
        "   \n",
        "    \n",
        "    preds = Dense(labels_index, activation='softmax')(x)\n",
        "\n",
        "    model = Model(sequence_input, preds)\n",
        "    model.compile(loss='categorical_crossentropy',\n",
        "                  optimizer='adam',\n",
        "                  metrics=['acc'])\n",
        "    model.summary()\n",
        "    return model\n"
      ],
      "metadata": {
        "id": "YAnqf_jniI1q"
      },
      "execution_count": 194,
      "outputs": []
    },
    {
      "cell_type": "code",
      "source": [
        "label_names = ['salaire €']"
      ],
      "metadata": {
        "id": "GlKF_XSdipNX"
      },
      "execution_count": 195,
      "outputs": []
    },
    {
      "cell_type": "code",
      "source": [
        "y_train = data_train[label_names].values"
      ],
      "metadata": {
        "id": "ZdYkQSjNivI_"
      },
      "execution_count": 196,
      "outputs": []
    },
    {
      "cell_type": "code",
      "source": [
        "y_train"
      ],
      "metadata": {
        "colab": {
          "base_uri": "https://localhost:8080/"
        },
        "id": "RgthCFosdVZa",
        "outputId": "c565a22c-52b5-4b5c-d1e6-6bd58f644c09"
      },
      "execution_count": 197,
      "outputs": [
        {
          "output_type": "execute_result",
          "data": {
            "text/plain": [
              "array([[2],\n",
              "       [3],\n",
              "       [2],\n",
              "       ...,\n",
              "       [4],\n",
              "       [2],\n",
              "       [2]])"
            ]
          },
          "metadata": {},
          "execution_count": 197
        }
      ]
    },
    {
      "cell_type": "code",
      "source": [
        "x_train = train_cnn_data\n",
        "from keras.utils.np_utils import to_categorical\n",
        "y_train = to_categorical(y_train)\n",
        "y_tr = y_train"
      ],
      "metadata": {
        "id": "J44wZOpsi1Ad"
      },
      "execution_count": 198,
      "outputs": []
    },
    {
      "cell_type": "code",
      "source": [
        "x_train"
      ],
      "metadata": {
        "colab": {
          "base_uri": "https://localhost:8080/"
        },
        "id": "RkWkfjvLesjG",
        "outputId": "e120f7fd-a741-4160-d05d-24fbcf1cdc55"
      },
      "execution_count": 199,
      "outputs": [
        {
          "output_type": "execute_result",
          "data": {
            "text/plain": [
              "array([[ 7316, 20364,   739, ...,   304,   335,  4119],\n",
              "       [ 2896,   296,  9276, ...,    32,    75,    87],\n",
              "       [   25,     1,     9, ...,   940,     1,  1570],\n",
              "       ...,\n",
              "       [  901,   306,     8, ...,   143,   411,  1364],\n",
              "       [  538,  7613,   926, ...,   758,  2407,  1179],\n",
              "       [    1,   115,   528, ...,    69,   808,   678]], dtype=int32)"
            ]
          },
          "metadata": {},
          "execution_count": 199
        }
      ]
    },
    {
      "cell_type": "code",
      "source": [
        "model = ConvNet(train_embedding_weights, MAX_SEQUENCE_LENGTH, len(train_word_index)+1, EMBEDDING_DIM, 5 )\n"
      ],
      "metadata": {
        "colab": {
          "base_uri": "https://localhost:8080/"
        },
        "id": "_O2iW0Sni285",
        "outputId": "08bc109f-ce17-4c73-86c6-cf63b6a6823d"
      },
      "execution_count": 200,
      "outputs": [
        {
          "output_type": "stream",
          "name": "stdout",
          "text": [
            "Model: \"model_6\"\n",
            "__________________________________________________________________________________________________\n",
            " Layer (type)                   Output Shape         Param #     Connected to                     \n",
            "==================================================================================================\n",
            " input_20 (InputLayer)          [(None, 50)]         0           []                               \n",
            "                                                                                                  \n",
            " embedding_19 (Embedding)       (None, 50, 300)      10874100    ['input_20[0][0]']               \n",
            "                                                                                                  \n",
            " conv1d_95 (Conv1D)             (None, 49, 200)      120200      ['embedding_19[0][0]']           \n",
            "                                                                                                  \n",
            " conv1d_96 (Conv1D)             (None, 48, 200)      180200      ['embedding_19[0][0]']           \n",
            "                                                                                                  \n",
            " conv1d_97 (Conv1D)             (None, 47, 200)      240200      ['embedding_19[0][0]']           \n",
            "                                                                                                  \n",
            " conv1d_98 (Conv1D)             (None, 46, 200)      300200      ['embedding_19[0][0]']           \n",
            "                                                                                                  \n",
            " conv1d_99 (Conv1D)             (None, 45, 200)      360200      ['embedding_19[0][0]']           \n",
            "                                                                                                  \n",
            " global_max_pooling1d_95 (Globa  (None, 200)         0           ['conv1d_95[0][0]']              \n",
            " lMaxPooling1D)                                                                                   \n",
            "                                                                                                  \n",
            " global_max_pooling1d_96 (Globa  (None, 200)         0           ['conv1d_96[0][0]']              \n",
            " lMaxPooling1D)                                                                                   \n",
            "                                                                                                  \n",
            " global_max_pooling1d_97 (Globa  (None, 200)         0           ['conv1d_97[0][0]']              \n",
            " lMaxPooling1D)                                                                                   \n",
            "                                                                                                  \n",
            " global_max_pooling1d_98 (Globa  (None, 200)         0           ['conv1d_98[0][0]']              \n",
            " lMaxPooling1D)                                                                                   \n",
            "                                                                                                  \n",
            " global_max_pooling1d_99 (Globa  (None, 200)         0           ['conv1d_99[0][0]']              \n",
            " lMaxPooling1D)                                                                                   \n",
            "                                                                                                  \n",
            " concatenate_19 (Concatenate)   (None, 1000)         0           ['global_max_pooling1d_95[0][0]',\n",
            "                                                                  'global_max_pooling1d_96[0][0]',\n",
            "                                                                  'global_max_pooling1d_97[0][0]',\n",
            "                                                                  'global_max_pooling1d_98[0][0]',\n",
            "                                                                  'global_max_pooling1d_99[0][0]']\n",
            "                                                                                                  \n",
            " dropout_30 (Dropout)           (None, 1000)         0           ['concatenate_19[0][0]']         \n",
            "                                                                                                  \n",
            " dense_22 (Dense)               (None, 512)          512512      ['dropout_30[0][0]']             \n",
            "                                                                                                  \n",
            " dropout_31 (Dropout)           (None, 512)          0           ['dense_22[0][0]']               \n",
            "                                                                                                  \n",
            " dense_23 (Dense)               (None, 5)            2565        ['dropout_31[0][0]']             \n",
            "                                                                                                  \n",
            "==================================================================================================\n",
            "Total params: 12,590,177\n",
            "Trainable params: 1,716,077\n",
            "Non-trainable params: 10,874,100\n",
            "__________________________________________________________________________________________________\n"
          ]
        }
      ]
    },
    {
      "cell_type": "code",
      "source": [
        "\n",
        "\n",
        "num_epochs = 5\n",
        "batch_size = 16\n",
        "\n"
      ],
      "metadata": {
        "id": "hB9JoY-ki4XZ"
      },
      "execution_count": 167,
      "outputs": []
    },
    {
      "cell_type": "code",
      "source": [
        "hist = model.fit(x_train, y_tr, epochs=num_epochs, validation_split=0.1, shuffle=True, batch_size=batch_size)"
      ],
      "metadata": {
        "colab": {
          "base_uri": "https://localhost:8080/"
        },
        "id": "4WxCu-ekjA4a",
        "outputId": "579dbfe0-d9e3-44bb-cf37-7eb69a23f6df"
      },
      "execution_count": 168,
      "outputs": [
        {
          "output_type": "stream",
          "name": "stdout",
          "text": [
            "Epoch 1/5\n",
            "226/226 [==============================] - 24s 103ms/step - loss: 1.3544 - acc: 0.4402 - val_loss: 1.0076 - val_acc: 0.5274\n",
            "Epoch 2/5\n",
            "226/226 [==============================] - 24s 104ms/step - loss: 0.9144 - acc: 0.6079 - val_loss: 0.9035 - val_acc: 0.6119\n",
            "Epoch 3/5\n",
            "226/226 [==============================] - 22s 99ms/step - loss: 0.6756 - acc: 0.7133 - val_loss: 0.8005 - val_acc: 0.6667\n",
            "Epoch 4/5\n",
            "226/226 [==============================] - 22s 99ms/step - loss: 0.4960 - acc: 0.8041 - val_loss: 0.8013 - val_acc: 0.6766\n",
            "Epoch 5/5\n",
            "226/226 [==============================] - 22s 98ms/step - loss: 0.3626 - acc: 0.8683 - val_loss: 0.7177 - val_acc: 0.7388\n"
          ]
        }
      ]
    },
    {
      "cell_type": "code",
      "source": [
        ""
      ],
      "metadata": {
        "id": "njpIEkk5jC95"
      },
      "execution_count": null,
      "outputs": []
    },
    {
      "cell_type": "code",
      "source": [
        "output_test = model.predict(test_cnn_data)"
      ],
      "metadata": {
        "id": "WV4NShVYOoiJ"
      },
      "execution_count": 171,
      "outputs": []
    },
    {
      "cell_type": "code",
      "source": [
        ""
      ],
      "metadata": {
        "colab": {
          "base_uri": "https://localhost:8080/"
        },
        "id": "AXaR1gPqk4QC",
        "outputId": "577b77f6-e30e-47ff-92ec-7290a1c8b0dc"
      },
      "execution_count": 172,
      "outputs": [
        {
          "output_type": "execute_result",
          "data": {
            "text/plain": [
              "array([[9.16352093e-01, 7.39875855e-03, 2.99230072e-04, 7.52455592e-02,\n",
              "        7.04414677e-04],\n",
              "       [5.32713693e-06, 1.29149295e-04, 9.99591649e-01, 3.14888234e-06,\n",
              "        2.70683144e-04],\n",
              "       [9.72761631e-01, 2.30123452e-03, 9.66136286e-05, 2.47155055e-02,\n",
              "        1.25018385e-04],\n",
              "       ...,\n",
              "       [5.68839252e-01, 2.62827929e-02, 5.00490237e-03, 3.92013311e-01,\n",
              "        7.85976090e-03],\n",
              "       [9.46563244e-01, 3.36266570e-02, 1.10719493e-03, 9.70217492e-03,\n",
              "        9.00086854e-03],\n",
              "       [8.56722534e-01, 2.21833345e-02, 5.60727378e-04, 1.18848756e-01,\n",
              "        1.68474379e-03]], dtype=float32)"
            ]
          },
          "metadata": {},
          "execution_count": 172
        }
      ]
    },
    {
      "cell_type": "code",
      "source": [
        "y_test = data_test[\"salaire €\"]"
      ],
      "metadata": {
        "id": "5F0TSgWMli64"
      },
      "execution_count": 174,
      "outputs": []
    },
    {
      "cell_type": "code",
      "source": [
        "m= []\n",
        "for i in range( len(output_test)): \n",
        "  m.append(output_test[i].argmax())"
      ],
      "metadata": {
        "id": "qTrFNbUSlrot"
      },
      "execution_count": 175,
      "outputs": []
    },
    {
      "cell_type": "code",
      "source": [
        "from sklearn.metrics import accuracy_score\n",
        "print(accuracy_score(y_test,m))"
      ],
      "metadata": {
        "colab": {
          "base_uri": "https://localhost:8080/"
        },
        "id": "Do--TTu-l3yr",
        "outputId": "ec9ad853-b502-4b5f-cdb7-a4cab00fed54"
      },
      "execution_count": 176,
      "outputs": [
        {
          "output_type": "stream",
          "name": "stdout",
          "text": [
            "0.7203579418344519\n"
          ]
        }
      ]
    },
    {
      "cell_type": "code",
      "source": [
        ""
      ],
      "metadata": {
        "id": "4oTfbCawmfFt"
      },
      "execution_count": null,
      "outputs": []
    }
  ]
}